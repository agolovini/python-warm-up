{
 "cells": [
  {
   "cell_type": "markdown",
   "id": "74df8985",
   "metadata": {},
   "source": [
    "# Excercises from [pandaspractice.com](https://pandaspractice.com/)"
   ]
  },
  {
   "cell_type": "code",
   "execution_count": 54,
   "id": "8bb6477e",
   "metadata": {},
   "outputs": [
    {
     "data": {
      "text/html": [
       "<div>\n",
       "<style scoped>\n",
       "    .dataframe tbody tr th:only-of-type {\n",
       "        vertical-align: middle;\n",
       "    }\n",
       "\n",
       "    .dataframe tbody tr th {\n",
       "        vertical-align: top;\n",
       "    }\n",
       "\n",
       "    .dataframe thead th {\n",
       "        text-align: right;\n",
       "    }\n",
       "</style>\n",
       "<table border=\"1\" class=\"dataframe\">\n",
       "  <thead>\n",
       "    <tr style=\"text-align: right;\">\n",
       "      <th></th>\n",
       "      <th>name</th>\n",
       "      <th>age</th>\n",
       "    </tr>\n",
       "  </thead>\n",
       "  <tbody>\n",
       "    <tr>\n",
       "      <th>0</th>\n",
       "      <td>Jeff</td>\n",
       "      <td>30</td>\n",
       "    </tr>\n",
       "    <tr>\n",
       "      <th>1</th>\n",
       "      <td>Esha</td>\n",
       "      <td>56</td>\n",
       "    </tr>\n",
       "    <tr>\n",
       "      <th>2</th>\n",
       "      <td>Jia</td>\n",
       "      <td>8</td>\n",
       "    </tr>\n",
       "  </tbody>\n",
       "</table>\n",
       "</div>"
      ],
      "text/plain": [
       "   name  age\n",
       "0  Jeff   30\n",
       "1  Esha   56\n",
       "2   Jia    8"
      ]
     },
     "execution_count": 54,
     "metadata": {},
     "output_type": "execute_result"
    }
   ],
   "source": [
    "import pandas as pd\n",
    "\n",
    "df = pd.DataFrame({'name': ['Jeff', 'Esha', 'Jia'], \n",
    "                   'age': [30, 56, 8]})\n",
    "df"
   ]
  },
  {
   "cell_type": "markdown",
   "id": "daad4b8d",
   "metadata": {},
   "source": [
    "### Select column"
   ]
  },
  {
   "cell_type": "markdown",
   "id": "c48d3d99",
   "metadata": {},
   "source": [
    "Now, you want to select just the name column from the DataFrame.\n",
    "\n",
    "Complete the function, `name_column(df)`, by having it return only the name column."
   ]
  },
  {
   "cell_type": "code",
   "execution_count": 2,
   "id": "9ef758f3",
   "metadata": {},
   "outputs": [],
   "source": [
    "def name_column(df):\n",
    "    return df['name']"
   ]
  },
  {
   "cell_type": "markdown",
   "id": "b933c194",
   "metadata": {},
   "source": [
    "### Select rows by label (.loc)"
   ]
  },
  {
   "cell_type": "markdown",
   "id": "1871b630",
   "metadata": {},
   "source": [
    "You can select the rows of a DataFrame one of two ways. One way is with `df.loc[...]`. `df.loc[...]` selects rows based on their index value. To select a single row, you can do `df.loc[index_value]`, for example, `df.loc[156]`. To select multiple rows, you can do `df.loc[[index_value1, index_value2]]`, for example, `df.loc[[132, 156]]`.\n",
    "\n",
    "Suppose you constructed a DataFrame by"
   ]
  },
  {
   "cell_type": "markdown",
   "id": "b86806e4",
   "metadata": {},
   "source": [
    "Complete the function, `select_Jia_row(df)`, by having it return the row with Jia in it. This should involve hard-coding the index value associated with Jia."
   ]
  },
  {
   "cell_type": "code",
   "execution_count": 3,
   "id": "bb1c304a",
   "metadata": {},
   "outputs": [],
   "source": [
    "def select_Jia_row(df):\n",
    "    return df.loc[27]"
   ]
  },
  {
   "cell_type": "markdown",
   "id": "def4d7c2",
   "metadata": {},
   "source": [
    "### Select rows by position (.iloc)"
   ]
  },
  {
   "cell_type": "markdown",
   "id": "8d85b6d4",
   "metadata": {},
   "source": [
    "To select a single row, you can do `df.iloc[position]`, for example, `df.loc[1]` selects the row with Esha below. To select multiple rows, you can do `df.iloc[[position1, position2]]`, for example, `df.loc[[0, 2]]`."
   ]
  },
  {
   "cell_type": "markdown",
   "id": "c1c960dc",
   "metadata": {},
   "source": [
    "Complete the function, `select_first_row(df)`, by having it return the first row in the DataFrame."
   ]
  },
  {
   "cell_type": "code",
   "execution_count": 4,
   "id": "fdbf0d2b",
   "metadata": {},
   "outputs": [],
   "source": [
    "def select_first_row(df):\n",
    "    return df.iloc[0]"
   ]
  },
  {
   "cell_type": "markdown",
   "id": "b338e73f",
   "metadata": {},
   "source": [
    "### Aggregate a column"
   ]
  },
  {
   "cell_type": "markdown",
   "id": "4d1c9829",
   "metadata": {},
   "source": [
    "What is the minimum value of age? Define a variable `min_ag`e with the value of `df.age.min()` would output."
   ]
  },
  {
   "cell_type": "code",
   "execution_count": 5,
   "id": "472a468e",
   "metadata": {},
   "outputs": [],
   "source": [
    "min_age = df.age.min()"
   ]
  },
  {
   "cell_type": "markdown",
   "id": "c934623f",
   "metadata": {},
   "source": [
    "### Creating a new column"
   ]
  },
  {
   "cell_type": "markdown",
   "id": "4c580448",
   "metadata": {},
   "source": [
    "Write a function, `add_can_drive(df)` which takes in the DataFrame and returns a new DataFrame with a *column can_drive which is True if the person is 16 or older and False otherwise*."
   ]
  },
  {
   "cell_type": "code",
   "execution_count": 6,
   "id": "cd94811f",
   "metadata": {},
   "outputs": [],
   "source": [
    "def add_can_drive(df):\n",
    "  df['can_drive'] = df['age'] >= 16\n",
    "  return df"
   ]
  },
  {
   "cell_type": "markdown",
   "id": "d7fa0aa4",
   "metadata": {},
   "source": [
    "another variant:"
   ]
  },
  {
   "cell_type": "code",
   "execution_count": 7,
   "id": "716ee36f",
   "metadata": {},
   "outputs": [],
   "source": [
    "def add_can_drive(df):\n",
    "  df['can_drive'] = [True if x >= 16 else False for x in df['age']]\n",
    "  return df"
   ]
  },
  {
   "cell_type": "markdown",
   "id": "88529aaa",
   "metadata": {},
   "source": [
    "### Modify a column"
   ]
  },
  {
   "cell_type": "markdown",
   "id": "92d74c65",
   "metadata": {},
   "source": [
    "Write a function, `age_in_days(df)` which takes in the DataFrame and returns a new DataFrame with the column age modified to be in terms of days instead of years."
   ]
  },
  {
   "cell_type": "code",
   "execution_count": 9,
   "id": "b5cda897",
   "metadata": {},
   "outputs": [],
   "source": [
    "def age_in_days(df):\n",
    "  df['age'] = [x * 365 for x in df['age']] \n",
    "  return df"
   ]
  },
  {
   "cell_type": "code",
   "execution_count": 10,
   "id": "8df984eb",
   "metadata": {},
   "outputs": [
    {
     "data": {
      "text/html": [
       "<div>\n",
       "<style scoped>\n",
       "    .dataframe tbody tr th:only-of-type {\n",
       "        vertical-align: middle;\n",
       "    }\n",
       "\n",
       "    .dataframe tbody tr th {\n",
       "        vertical-align: top;\n",
       "    }\n",
       "\n",
       "    .dataframe thead th {\n",
       "        text-align: right;\n",
       "    }\n",
       "</style>\n",
       "<table border=\"1\" class=\"dataframe\">\n",
       "  <thead>\n",
       "    <tr style=\"text-align: right;\">\n",
       "      <th></th>\n",
       "      <th>name</th>\n",
       "      <th>age</th>\n",
       "    </tr>\n",
       "  </thead>\n",
       "  <tbody>\n",
       "    <tr>\n",
       "      <th>0</th>\n",
       "      <td>Jeff</td>\n",
       "      <td>10950</td>\n",
       "    </tr>\n",
       "    <tr>\n",
       "      <th>1</th>\n",
       "      <td>Esha</td>\n",
       "      <td>20440</td>\n",
       "    </tr>\n",
       "    <tr>\n",
       "      <th>2</th>\n",
       "      <td>Jia</td>\n",
       "      <td>2920</td>\n",
       "    </tr>\n",
       "  </tbody>\n",
       "</table>\n",
       "</div>"
      ],
      "text/plain": [
       "   name    age\n",
       "0  Jeff  10950\n",
       "1  Esha  20440\n",
       "2   Jia   2920"
      ]
     },
     "execution_count": 10,
     "metadata": {},
     "output_type": "execute_result"
    }
   ],
   "source": [
    "age_in_days(df)"
   ]
  },
  {
   "cell_type": "markdown",
   "id": "372411e6",
   "metadata": {},
   "source": [
    "second variant:"
   ]
  },
  {
   "cell_type": "code",
   "execution_count": 16,
   "id": "792dd4b9",
   "metadata": {},
   "outputs": [],
   "source": [
    "def age_in_days2(df):\n",
    "  df['age'] *= 365\n",
    "  return df"
   ]
  },
  {
   "cell_type": "code",
   "execution_count": 17,
   "id": "73f95233",
   "metadata": {},
   "outputs": [
    {
     "data": {
      "text/html": [
       "<div>\n",
       "<style scoped>\n",
       "    .dataframe tbody tr th:only-of-type {\n",
       "        vertical-align: middle;\n",
       "    }\n",
       "\n",
       "    .dataframe tbody tr th {\n",
       "        vertical-align: top;\n",
       "    }\n",
       "\n",
       "    .dataframe thead th {\n",
       "        text-align: right;\n",
       "    }\n",
       "</style>\n",
       "<table border=\"1\" class=\"dataframe\">\n",
       "  <thead>\n",
       "    <tr style=\"text-align: right;\">\n",
       "      <th></th>\n",
       "      <th>name</th>\n",
       "      <th>age</th>\n",
       "    </tr>\n",
       "  </thead>\n",
       "  <tbody>\n",
       "    <tr>\n",
       "      <th>0</th>\n",
       "      <td>Jeff</td>\n",
       "      <td>10950</td>\n",
       "    </tr>\n",
       "    <tr>\n",
       "      <th>1</th>\n",
       "      <td>Esha</td>\n",
       "      <td>20440</td>\n",
       "    </tr>\n",
       "    <tr>\n",
       "      <th>2</th>\n",
       "      <td>Jia</td>\n",
       "      <td>2920</td>\n",
       "    </tr>\n",
       "  </tbody>\n",
       "</table>\n",
       "</div>"
      ],
      "text/plain": [
       "   name    age\n",
       "0  Jeff  10950\n",
       "1  Esha  20440\n",
       "2   Jia   2920"
      ]
     },
     "execution_count": 17,
     "metadata": {},
     "output_type": "execute_result"
    }
   ],
   "source": [
    "age_in_days2(df)"
   ]
  },
  {
   "cell_type": "markdown",
   "id": "aaf7b911",
   "metadata": {},
   "source": [
    "## Filter rows"
   ]
  },
  {
   "cell_type": "markdown",
   "id": "7a9d2669",
   "metadata": {},
   "source": [
    "Write a function, `only_names_that_start_with_j(df`) which takes in the DataFrame and returns a new DataFrame with rows of names that start with 'J'. Hint: the pandas `.str` functions would be helpful here."
   ]
  },
  {
   "cell_type": "code",
   "execution_count": 51,
   "id": "05f52322",
   "metadata": {},
   "outputs": [],
   "source": [
    "def only_names_that_start_with_j(df):\n",
    "  df = df[df.name.str.startswith('J')]\n",
    "  return df"
   ]
  },
  {
   "cell_type": "code",
   "execution_count": 53,
   "id": "5565ac4c",
   "metadata": {},
   "outputs": [
    {
     "data": {
      "text/html": [
       "<div>\n",
       "<style scoped>\n",
       "    .dataframe tbody tr th:only-of-type {\n",
       "        vertical-align: middle;\n",
       "    }\n",
       "\n",
       "    .dataframe tbody tr th {\n",
       "        vertical-align: top;\n",
       "    }\n",
       "\n",
       "    .dataframe thead th {\n",
       "        text-align: right;\n",
       "    }\n",
       "</style>\n",
       "<table border=\"1\" class=\"dataframe\">\n",
       "  <thead>\n",
       "    <tr style=\"text-align: right;\">\n",
       "      <th></th>\n",
       "      <th>name</th>\n",
       "      <th>age</th>\n",
       "    </tr>\n",
       "  </thead>\n",
       "  <tbody>\n",
       "    <tr>\n",
       "      <th>0</th>\n",
       "      <td>Jeff</td>\n",
       "      <td>30</td>\n",
       "    </tr>\n",
       "    <tr>\n",
       "      <th>2</th>\n",
       "      <td>Jia</td>\n",
       "      <td>8</td>\n",
       "    </tr>\n",
       "  </tbody>\n",
       "</table>\n",
       "</div>"
      ],
      "text/plain": [
       "   name  age\n",
       "0  Jeff   30\n",
       "2   Jia    8"
      ]
     },
     "execution_count": 53,
     "metadata": {},
     "output_type": "execute_result"
    }
   ],
   "source": [
    "only_names_that_start_with_j(df)"
   ]
  },
  {
   "cell_type": "markdown",
   "id": "9b23a7f8",
   "metadata": {},
   "source": [
    "second variant:"
   ]
  },
  {
   "cell_type": "code",
   "execution_count": 58,
   "id": "e613abbd",
   "metadata": {},
   "outputs": [],
   "source": [
    "def only_names_that_start_with_j2(df):\n",
    "  filt1 = df['name'].str.startswith('J')\n",
    "  df = df.loc[filt1]\n",
    "  return df"
   ]
  },
  {
   "cell_type": "markdown",
   "id": "c1d9efe6",
   "metadata": {},
   "source": [
    "## Select rows by boolean expressions"
   ]
  },
  {
   "cell_type": "markdown",
   "id": "21681212",
   "metadata": {},
   "source": [
    "Complete the function, `select_target_audience(df)`, by having it return the rows with people who are **between 21 and 40** years old (inclusive) and live in **New York or Tokyo**."
   ]
  },
  {
   "cell_type": "code",
   "execution_count": 121,
   "id": "36f4763d",
   "metadata": {},
   "outputs": [],
   "source": [
    "df = pd.DataFrame({'name': ['Jeff', 'Esha', 'Jia', 'Hatori', 'Ashley'], \n",
    "                   'age': [30, 56, 8, 38, 20],\n",
    "                   'city': ['New York', 'Atlanta', 'Shanghai', 'Tokyo', 'New York']})"
   ]
  },
  {
   "cell_type": "code",
   "execution_count": 122,
   "id": "d233456e",
   "metadata": {},
   "outputs": [],
   "source": [
    "def select_target_audience(df):\n",
    "    df = df[(df.age >=21) & (df.age <=40) & (df.city == 'New York') | (df.city == 'Tokyo')]\n",
    "    return df  "
   ]
  },
  {
   "cell_type": "code",
   "execution_count": 124,
   "id": "6f34a0a2",
   "metadata": {},
   "outputs": [
    {
     "data": {
      "text/html": [
       "<div>\n",
       "<style scoped>\n",
       "    .dataframe tbody tr th:only-of-type {\n",
       "        vertical-align: middle;\n",
       "    }\n",
       "\n",
       "    .dataframe tbody tr th {\n",
       "        vertical-align: top;\n",
       "    }\n",
       "\n",
       "    .dataframe thead th {\n",
       "        text-align: right;\n",
       "    }\n",
       "</style>\n",
       "<table border=\"1\" class=\"dataframe\">\n",
       "  <thead>\n",
       "    <tr style=\"text-align: right;\">\n",
       "      <th></th>\n",
       "      <th>name</th>\n",
       "      <th>age</th>\n",
       "      <th>city</th>\n",
       "    </tr>\n",
       "  </thead>\n",
       "  <tbody>\n",
       "    <tr>\n",
       "      <th>0</th>\n",
       "      <td>Jeff</td>\n",
       "      <td>30</td>\n",
       "      <td>New York</td>\n",
       "    </tr>\n",
       "    <tr>\n",
       "      <th>3</th>\n",
       "      <td>Hatori</td>\n",
       "      <td>38</td>\n",
       "      <td>Tokyo</td>\n",
       "    </tr>\n",
       "  </tbody>\n",
       "</table>\n",
       "</div>"
      ],
      "text/plain": [
       "     name  age      city\n",
       "0    Jeff   30  New York\n",
       "3  Hatori   38     Tokyo"
      ]
     },
     "execution_count": 124,
     "metadata": {},
     "output_type": "execute_result"
    }
   ],
   "source": [
    "select_target_audience(df)"
   ]
  },
  {
   "cell_type": "markdown",
   "id": "c96f686f",
   "metadata": {},
   "source": [
    "You can make complex boolean (true/false) expressions to select or filter rows in your DataFrame. For example, if our DataFrame had a column age, we could select people who are 16 or older by doing `df[df.age >= 16]`. But suppose we wanted people who are 16 and older and live in New York. Then we could select them by doing `df[(df.age >= 16) & (df.city == 'New York')]`. The & in that expression means \"and\", | means \"or\" and ~ means \"not\". Unfortunately, you can't use the python operators and, or, and not with Pandas objects.\n",
    "\n",
    "One gotcha about using & (and) and | (or) to make boolean expressions in Pandas is that you need to wrap each piece between a & or | in parenthesis. This is an unfortunate issue due to the way python evaluates operators. If you are interested, you can read more about it here. In either case, remember to wrap each piece in parenthesis!"
   ]
  },
  {
   "cell_type": "markdown",
   "id": "14452004",
   "metadata": {},
   "source": [
    "## Conditional column update"
   ]
  },
  {
   "cell_type": "markdown",
   "id": "7c80b63d",
   "metadata": {},
   "source": [
    "Suppose we realize after collecting a bunch of data that our process incorrectly set the age of people in New York and Atlanta one year less than it was suppose to. Complete the function, correct_age_in_error_cities(df), by having it increment the age of people living in New York or Atlanta by one year."
   ]
  },
  {
   "cell_type": "code",
   "execution_count": 147,
   "id": "1a50c845",
   "metadata": {},
   "outputs": [],
   "source": [
    "df = pd.DataFrame({'name': ['Jeff', 'Esha', 'Jia', 'Hatori', 'Ashley'], \n",
    "                   'age': [30, 56, 8, 38, 20],\n",
    "                   'city': ['New York', 'Atlanta', 'Shanghai', 'Tokyo', 'New York']})"
   ]
  },
  {
   "cell_type": "code",
   "execution_count": 148,
   "id": "b00a3a9b",
   "metadata": {},
   "outputs": [],
   "source": [
    "def correct_age_in_error_cities(df):\n",
    "    df.loc[((df['city']=='New York')| (df['city']=='Tokyo')),'age']=df['age']+1\n",
    "    return df"
   ]
  },
  {
   "cell_type": "code",
   "execution_count": 149,
   "id": "1d54d6ae",
   "metadata": {},
   "outputs": [
    {
     "data": {
      "text/html": [
       "<div>\n",
       "<style scoped>\n",
       "    .dataframe tbody tr th:only-of-type {\n",
       "        vertical-align: middle;\n",
       "    }\n",
       "\n",
       "    .dataframe tbody tr th {\n",
       "        vertical-align: top;\n",
       "    }\n",
       "\n",
       "    .dataframe thead th {\n",
       "        text-align: right;\n",
       "    }\n",
       "</style>\n",
       "<table border=\"1\" class=\"dataframe\">\n",
       "  <thead>\n",
       "    <tr style=\"text-align: right;\">\n",
       "      <th></th>\n",
       "      <th>name</th>\n",
       "      <th>age</th>\n",
       "      <th>city</th>\n",
       "    </tr>\n",
       "  </thead>\n",
       "  <tbody>\n",
       "    <tr>\n",
       "      <th>0</th>\n",
       "      <td>Jeff</td>\n",
       "      <td>31</td>\n",
       "      <td>New York</td>\n",
       "    </tr>\n",
       "    <tr>\n",
       "      <th>1</th>\n",
       "      <td>Esha</td>\n",
       "      <td>56</td>\n",
       "      <td>Atlanta</td>\n",
       "    </tr>\n",
       "    <tr>\n",
       "      <th>2</th>\n",
       "      <td>Jia</td>\n",
       "      <td>8</td>\n",
       "      <td>Shanghai</td>\n",
       "    </tr>\n",
       "    <tr>\n",
       "      <th>3</th>\n",
       "      <td>Hatori</td>\n",
       "      <td>39</td>\n",
       "      <td>Tokyo</td>\n",
       "    </tr>\n",
       "    <tr>\n",
       "      <th>4</th>\n",
       "      <td>Ashley</td>\n",
       "      <td>21</td>\n",
       "      <td>New York</td>\n",
       "    </tr>\n",
       "  </tbody>\n",
       "</table>\n",
       "</div>"
      ],
      "text/plain": [
       "     name  age      city\n",
       "0    Jeff   31  New York\n",
       "1    Esha   56   Atlanta\n",
       "2     Jia    8  Shanghai\n",
       "3  Hatori   39     Tokyo\n",
       "4  Ashley   21  New York"
      ]
     },
     "execution_count": 149,
     "metadata": {},
     "output_type": "execute_result"
    }
   ],
   "source": [
    "correct_age_in_error_cities(df)"
   ]
  },
  {
   "cell_type": "code",
   "execution_count": null,
   "id": "7f99eb4b",
   "metadata": {},
   "outputs": [],
   "source": []
  },
  {
   "cell_type": "code",
   "execution_count": null,
   "id": "29f875f6",
   "metadata": {},
   "outputs": [],
   "source": []
  },
  {
   "cell_type": "code",
   "execution_count": null,
   "id": "7a19d029",
   "metadata": {},
   "outputs": [],
   "source": []
  },
  {
   "cell_type": "code",
   "execution_count": null,
   "id": "1f434148",
   "metadata": {},
   "outputs": [],
   "source": []
  },
  {
   "cell_type": "code",
   "execution_count": null,
   "id": "559793d7",
   "metadata": {},
   "outputs": [],
   "source": []
  },
  {
   "cell_type": "code",
   "execution_count": null,
   "id": "722d128d",
   "metadata": {},
   "outputs": [],
   "source": []
  },
  {
   "cell_type": "code",
   "execution_count": null,
   "id": "5e8a0e7b",
   "metadata": {},
   "outputs": [],
   "source": []
  },
  {
   "cell_type": "code",
   "execution_count": null,
   "id": "987c2faf",
   "metadata": {},
   "outputs": [],
   "source": []
  },
  {
   "cell_type": "code",
   "execution_count": null,
   "id": "d7e25ec8",
   "metadata": {},
   "outputs": [],
   "source": []
  },
  {
   "cell_type": "code",
   "execution_count": null,
   "id": "d12305d2",
   "metadata": {},
   "outputs": [],
   "source": []
  },
  {
   "cell_type": "code",
   "execution_count": null,
   "id": "a146982d",
   "metadata": {},
   "outputs": [],
   "source": []
  },
  {
   "cell_type": "code",
   "execution_count": null,
   "id": "aa1d3016",
   "metadata": {},
   "outputs": [],
   "source": []
  },
  {
   "cell_type": "code",
   "execution_count": null,
   "id": "7561bae8",
   "metadata": {},
   "outputs": [],
   "source": []
  }
 ],
 "metadata": {
  "kernelspec": {
   "display_name": "Python 3 (ipykernel)",
   "language": "python",
   "name": "python3"
  },
  "language_info": {
   "codemirror_mode": {
    "name": "ipython",
    "version": 3
   },
   "file_extension": ".py",
   "mimetype": "text/x-python",
   "name": "python",
   "nbconvert_exporter": "python",
   "pygments_lexer": "ipython3",
   "version": "3.9.13"
  }
 },
 "nbformat": 4,
 "nbformat_minor": 5
}
