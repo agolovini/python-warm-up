{
 "cells": [
  {
   "cell_type": "markdown",
   "id": "c343c9ec",
   "metadata": {},
   "source": [
    "# Excercises from [pandaspractice.com](https://pandaspractice.com/)"
   ]
  },
  {
   "cell_type": "code",
   "execution_count": 18,
   "id": "2f858a89",
   "metadata": {},
   "outputs": [],
   "source": [
    "import pandas as pd\n",
    "\n",
    "df = pd.DataFrame({'name': ['Jeff', 'Esha', 'Jia'], \n",
    "                   'age': [30, 56, 8]})"
   ]
  },
  {
   "cell_type": "markdown",
   "id": "ff35606f",
   "metadata": {},
   "source": [
    "### Select column"
   ]
  },
  {
   "cell_type": "markdown",
   "id": "dcac708b",
   "metadata": {},
   "source": [
    "Now, you want to select just the name column from the DataFrame.\n",
    "\n",
    "Complete the function, `name_column(df)`, by having it return only the name column."
   ]
  },
  {
   "cell_type": "code",
   "execution_count": 2,
   "id": "352da5b8",
   "metadata": {},
   "outputs": [],
   "source": [
    "def name_column(df):\n",
    "    return df['name']"
   ]
  },
  {
   "cell_type": "markdown",
   "id": "85a4d5df",
   "metadata": {},
   "source": [
    "### Select rows by label (.loc)"
   ]
  },
  {
   "cell_type": "markdown",
   "id": "edb0f65d",
   "metadata": {},
   "source": [
    "You can select the rows of a DataFrame one of two ways. One way is with `df.loc[...]`. `df.loc[...]` selects rows based on their index value. To select a single row, you can do `df.loc[index_value]`, for example, `df.loc[156]`. To select multiple rows, you can do `df.loc[[index_value1, index_value2]]`, for example, `df.loc[[132, 156]]`.\n",
    "\n",
    "Suppose you constructed a DataFrame by"
   ]
  },
  {
   "cell_type": "markdown",
   "id": "dba39e61",
   "metadata": {},
   "source": [
    "Complete the function, `select_Jia_row(df)`, by having it return the row with Jia in it. This should involve hard-coding the index value associated with Jia."
   ]
  },
  {
   "cell_type": "code",
   "execution_count": 3,
   "id": "7257ac79",
   "metadata": {},
   "outputs": [],
   "source": [
    "def select_Jia_row(df):\n",
    "    return df.loc[27]"
   ]
  },
  {
   "cell_type": "markdown",
   "id": "3678e12d",
   "metadata": {},
   "source": [
    "### Select rows by position (.iloc)"
   ]
  },
  {
   "cell_type": "markdown",
   "id": "be0f024e",
   "metadata": {},
   "source": [
    "To select a single row, you can do `df.iloc[position]`, for example, `df.loc[1]` selects the row with Esha below. To select multiple rows, you can do `df.iloc[[position1, position2]]`, for example, `df.loc[[0, 2]]`."
   ]
  },
  {
   "cell_type": "markdown",
   "id": "12bd8ffa",
   "metadata": {},
   "source": [
    "Complete the function, `select_first_row(df)`, by having it return the first row in the DataFrame."
   ]
  },
  {
   "cell_type": "code",
   "execution_count": 4,
   "id": "2b92c710",
   "metadata": {},
   "outputs": [],
   "source": [
    "def select_first_row(df):\n",
    "    return df.iloc[0]"
   ]
  },
  {
   "cell_type": "markdown",
   "id": "3a1f4059",
   "metadata": {},
   "source": [
    "### Aggregate a column"
   ]
  },
  {
   "cell_type": "markdown",
   "id": "27f096e6",
   "metadata": {},
   "source": [
    "What is the minimum value of age? Define a variable `min_ag`e with the value of `df.age.min()` would output."
   ]
  },
  {
   "cell_type": "code",
   "execution_count": 5,
   "id": "966173a1",
   "metadata": {},
   "outputs": [],
   "source": [
    "min_age = df.age.min()"
   ]
  },
  {
   "cell_type": "markdown",
   "id": "b6ce5775",
   "metadata": {},
   "source": [
    "### Creating a new column"
   ]
  },
  {
   "cell_type": "markdown",
   "id": "380b0b22",
   "metadata": {},
   "source": [
    "Write a function, `add_can_drive(df)` which takes in the DataFrame and returns a new DataFrame with a *column can_drive which is True if the person is 16 or older and False otherwise*."
   ]
  },
  {
   "cell_type": "code",
   "execution_count": 6,
   "id": "4377eae1",
   "metadata": {},
   "outputs": [],
   "source": [
    "def add_can_drive(df):\n",
    "  df['can_drive'] = df['age'] >= 16\n",
    "  return df"
   ]
  },
  {
   "cell_type": "markdown",
   "id": "1705c7db",
   "metadata": {},
   "source": [
    "another variant:"
   ]
  },
  {
   "cell_type": "code",
   "execution_count": 7,
   "id": "7aafc199",
   "metadata": {},
   "outputs": [],
   "source": [
    "def add_can_drive(df):\n",
    "  df['can_drive'] = [True if x >= 16 else False for x in df['age']]\n",
    "  return df"
   ]
  },
  {
   "cell_type": "markdown",
   "id": "f1bbf940",
   "metadata": {},
   "source": [
    "### Modify a column"
   ]
  },
  {
   "cell_type": "markdown",
   "id": "a7bf4934",
   "metadata": {},
   "source": [
    "Write a function, `age_in_days(df)` which takes in the DataFrame and returns a new DataFrame with the column age modified to be in terms of days instead of years."
   ]
  },
  {
   "cell_type": "code",
   "execution_count": 9,
   "id": "22d78092",
   "metadata": {},
   "outputs": [],
   "source": [
    "def age_in_days(df):\n",
    "  df['age'] = [x * 365 for x in df['age']] \n",
    "  return df"
   ]
  },
  {
   "cell_type": "code",
   "execution_count": 10,
   "id": "9211bf45",
   "metadata": {},
   "outputs": [
    {
     "data": {
      "text/html": [
       "<div>\n",
       "<style scoped>\n",
       "    .dataframe tbody tr th:only-of-type {\n",
       "        vertical-align: middle;\n",
       "    }\n",
       "\n",
       "    .dataframe tbody tr th {\n",
       "        vertical-align: top;\n",
       "    }\n",
       "\n",
       "    .dataframe thead th {\n",
       "        text-align: right;\n",
       "    }\n",
       "</style>\n",
       "<table border=\"1\" class=\"dataframe\">\n",
       "  <thead>\n",
       "    <tr style=\"text-align: right;\">\n",
       "      <th></th>\n",
       "      <th>name</th>\n",
       "      <th>age</th>\n",
       "    </tr>\n",
       "  </thead>\n",
       "  <tbody>\n",
       "    <tr>\n",
       "      <th>0</th>\n",
       "      <td>Jeff</td>\n",
       "      <td>10950</td>\n",
       "    </tr>\n",
       "    <tr>\n",
       "      <th>1</th>\n",
       "      <td>Esha</td>\n",
       "      <td>20440</td>\n",
       "    </tr>\n",
       "    <tr>\n",
       "      <th>2</th>\n",
       "      <td>Jia</td>\n",
       "      <td>2920</td>\n",
       "    </tr>\n",
       "  </tbody>\n",
       "</table>\n",
       "</div>"
      ],
      "text/plain": [
       "   name    age\n",
       "0  Jeff  10950\n",
       "1  Esha  20440\n",
       "2   Jia   2920"
      ]
     },
     "execution_count": 10,
     "metadata": {},
     "output_type": "execute_result"
    }
   ],
   "source": [
    "age_in_days(df)"
   ]
  },
  {
   "cell_type": "markdown",
   "id": "e160002d",
   "metadata": {},
   "source": [
    "second variant:"
   ]
  },
  {
   "cell_type": "code",
   "execution_count": 16,
   "id": "f597798c",
   "metadata": {},
   "outputs": [],
   "source": [
    "def age_in_days2(df):\n",
    "  df['age'] *= 365\n",
    "  return df"
   ]
  },
  {
   "cell_type": "code",
   "execution_count": 17,
   "id": "9f6e6f3a",
   "metadata": {},
   "outputs": [
    {
     "data": {
      "text/html": [
       "<div>\n",
       "<style scoped>\n",
       "    .dataframe tbody tr th:only-of-type {\n",
       "        vertical-align: middle;\n",
       "    }\n",
       "\n",
       "    .dataframe tbody tr th {\n",
       "        vertical-align: top;\n",
       "    }\n",
       "\n",
       "    .dataframe thead th {\n",
       "        text-align: right;\n",
       "    }\n",
       "</style>\n",
       "<table border=\"1\" class=\"dataframe\">\n",
       "  <thead>\n",
       "    <tr style=\"text-align: right;\">\n",
       "      <th></th>\n",
       "      <th>name</th>\n",
       "      <th>age</th>\n",
       "    </tr>\n",
       "  </thead>\n",
       "  <tbody>\n",
       "    <tr>\n",
       "      <th>0</th>\n",
       "      <td>Jeff</td>\n",
       "      <td>10950</td>\n",
       "    </tr>\n",
       "    <tr>\n",
       "      <th>1</th>\n",
       "      <td>Esha</td>\n",
       "      <td>20440</td>\n",
       "    </tr>\n",
       "    <tr>\n",
       "      <th>2</th>\n",
       "      <td>Jia</td>\n",
       "      <td>2920</td>\n",
       "    </tr>\n",
       "  </tbody>\n",
       "</table>\n",
       "</div>"
      ],
      "text/plain": [
       "   name    age\n",
       "0  Jeff  10950\n",
       "1  Esha  20440\n",
       "2   Jia   2920"
      ]
     },
     "execution_count": 17,
     "metadata": {},
     "output_type": "execute_result"
    }
   ],
   "source": [
    "age_in_days2(df)"
   ]
  },
  {
   "cell_type": "markdown",
   "id": "a3cb847c",
   "metadata": {},
   "source": [
    "## Filter rows"
   ]
  },
  {
   "cell_type": "markdown",
   "id": "67d055fe",
   "metadata": {},
   "source": [
    "Write a function, `only_names_that_start_with_j(df`) which takes in the DataFrame and returns a new DataFrame with rows of names that start with 'J'. Hint: the pandas `.str` functions would be helpful here."
   ]
  },
  {
   "cell_type": "code",
   "execution_count": 32,
   "id": "21f544a4",
   "metadata": {},
   "outputs": [],
   "source": [
    "def only_names_that_start_with_j(df):\n",
    "  df = df[df.name == df.name.str.startswith('J')]\n",
    "  return df"
   ]
  },
  {
   "cell_type": "code",
   "execution_count": 33,
   "id": "3fdd7345",
   "metadata": {},
   "outputs": [
    {
     "data": {
      "text/html": [
       "<div>\n",
       "<style scoped>\n",
       "    .dataframe tbody tr th:only-of-type {\n",
       "        vertical-align: middle;\n",
       "    }\n",
       "\n",
       "    .dataframe tbody tr th {\n",
       "        vertical-align: top;\n",
       "    }\n",
       "\n",
       "    .dataframe thead th {\n",
       "        text-align: right;\n",
       "    }\n",
       "</style>\n",
       "<table border=\"1\" class=\"dataframe\">\n",
       "  <thead>\n",
       "    <tr style=\"text-align: right;\">\n",
       "      <th></th>\n",
       "      <th>name</th>\n",
       "      <th>age</th>\n",
       "    </tr>\n",
       "  </thead>\n",
       "  <tbody>\n",
       "  </tbody>\n",
       "</table>\n",
       "</div>"
      ],
      "text/plain": [
       "Empty DataFrame\n",
       "Columns: [name, age]\n",
       "Index: []"
      ]
     },
     "execution_count": 33,
     "metadata": {},
     "output_type": "execute_result"
    }
   ],
   "source": [
    "only_names_that_start_with_j(df)"
   ]
  },
  {
   "cell_type": "code",
   "execution_count": 34,
   "id": "5ec3388f",
   "metadata": {},
   "outputs": [
    {
     "ename": "AttributeError",
     "evalue": "'DataFrame' object has no attribute 'startswith'",
     "output_type": "error",
     "traceback": [
      "\u001b[1;31m---------------------------------------------------------------------------\u001b[0m",
      "\u001b[1;31mAttributeError\u001b[0m                            Traceback (most recent call last)",
      "\u001b[1;32m~\\AppData\\Local\\Temp\\ipykernel_21772\\1379502436.py\u001b[0m in \u001b[0;36m<module>\u001b[1;34m\u001b[0m\n\u001b[1;32m----> 1\u001b[1;33m \u001b[0mdf\u001b[0m\u001b[1;33m[\u001b[0m\u001b[0mdf\u001b[0m\u001b[1;33m.\u001b[0m\u001b[0mname\u001b[0m \u001b[1;33m==\u001b[0m \u001b[0mdf\u001b[0m\u001b[1;33m.\u001b[0m\u001b[0mstartswith\u001b[0m\u001b[1;33m(\u001b[0m\u001b[1;34m'J'\u001b[0m\u001b[1;33m)\u001b[0m\u001b[1;33m]\u001b[0m\u001b[1;33m\u001b[0m\u001b[1;33m\u001b[0m\u001b[0m\n\u001b[0m",
      "\u001b[1;32m~\\anaconda3\\lib\\site-packages\\pandas\\core\\generic.py\u001b[0m in \u001b[0;36m__getattr__\u001b[1;34m(self, name)\u001b[0m\n\u001b[0;32m   5573\u001b[0m         ):\n\u001b[0;32m   5574\u001b[0m             \u001b[1;32mreturn\u001b[0m \u001b[0mself\u001b[0m\u001b[1;33m[\u001b[0m\u001b[0mname\u001b[0m\u001b[1;33m]\u001b[0m\u001b[1;33m\u001b[0m\u001b[1;33m\u001b[0m\u001b[0m\n\u001b[1;32m-> 5575\u001b[1;33m         \u001b[1;32mreturn\u001b[0m \u001b[0mobject\u001b[0m\u001b[1;33m.\u001b[0m\u001b[0m__getattribute__\u001b[0m\u001b[1;33m(\u001b[0m\u001b[0mself\u001b[0m\u001b[1;33m,\u001b[0m \u001b[0mname\u001b[0m\u001b[1;33m)\u001b[0m\u001b[1;33m\u001b[0m\u001b[1;33m\u001b[0m\u001b[0m\n\u001b[0m\u001b[0;32m   5576\u001b[0m \u001b[1;33m\u001b[0m\u001b[0m\n\u001b[0;32m   5577\u001b[0m     \u001b[1;32mdef\u001b[0m \u001b[0m__setattr__\u001b[0m\u001b[1;33m(\u001b[0m\u001b[0mself\u001b[0m\u001b[1;33m,\u001b[0m \u001b[0mname\u001b[0m\u001b[1;33m:\u001b[0m \u001b[0mstr\u001b[0m\u001b[1;33m,\u001b[0m \u001b[0mvalue\u001b[0m\u001b[1;33m)\u001b[0m \u001b[1;33m->\u001b[0m \u001b[1;32mNone\u001b[0m\u001b[1;33m:\u001b[0m\u001b[1;33m\u001b[0m\u001b[1;33m\u001b[0m\u001b[0m\n",
      "\u001b[1;31mAttributeError\u001b[0m: 'DataFrame' object has no attribute 'startswith'"
     ]
    }
   ],
   "source": [
    "df.name == df.startswith('J')]"
   ]
  },
  {
   "cell_type": "code",
   "execution_count": null,
   "id": "e3b7cfd1",
   "metadata": {},
   "outputs": [],
   "source": []
  },
  {
   "cell_type": "code",
   "execution_count": null,
   "id": "6a4edc8a",
   "metadata": {},
   "outputs": [],
   "source": []
  },
  {
   "cell_type": "code",
   "execution_count": null,
   "id": "192b5bb6",
   "metadata": {},
   "outputs": [],
   "source": []
  },
  {
   "cell_type": "code",
   "execution_count": null,
   "id": "e1ce3816",
   "metadata": {},
   "outputs": [],
   "source": []
  },
  {
   "cell_type": "code",
   "execution_count": null,
   "id": "39308c3e",
   "metadata": {},
   "outputs": [],
   "source": []
  },
  {
   "cell_type": "code",
   "execution_count": null,
   "id": "921e91bd",
   "metadata": {},
   "outputs": [],
   "source": []
  },
  {
   "cell_type": "code",
   "execution_count": null,
   "id": "d50cac38",
   "metadata": {},
   "outputs": [],
   "source": []
  },
  {
   "cell_type": "code",
   "execution_count": null,
   "id": "de202313",
   "metadata": {},
   "outputs": [],
   "source": []
  },
  {
   "cell_type": "code",
   "execution_count": null,
   "id": "71c08a14",
   "metadata": {},
   "outputs": [],
   "source": []
  }
 ],
 "metadata": {
  "kernelspec": {
   "display_name": "Python 3 (ipykernel)",
   "language": "python",
   "name": "python3"
  },
  "language_info": {
   "codemirror_mode": {
    "name": "ipython",
    "version": 3
   },
   "file_extension": ".py",
   "mimetype": "text/x-python",
   "name": "python",
   "nbconvert_exporter": "python",
   "pygments_lexer": "ipython3",
   "version": "3.9.13"
  }
 },
 "nbformat": 4,
 "nbformat_minor": 5
}
