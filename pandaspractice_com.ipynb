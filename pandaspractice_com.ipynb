{
 "cells": [
  {
   "cell_type": "markdown",
   "id": "74df8985",
   "metadata": {},
   "source": [
    "# Excercises from [pandaspractice.com](https://pandaspractice.com/)"
   ]
  },
  {
   "cell_type": "code",
   "execution_count": null,
   "id": "544188ef",
   "metadata": {},
   "outputs": [],
   "source": []
  },
  {
   "cell_type": "code",
   "execution_count": 2,
   "id": "8bb6477e",
   "metadata": {},
   "outputs": [
    {
     "data": {
      "text/html": [
       "<div>\n",
       "<style scoped>\n",
       "    .dataframe tbody tr th:only-of-type {\n",
       "        vertical-align: middle;\n",
       "    }\n",
       "\n",
       "    .dataframe tbody tr th {\n",
       "        vertical-align: top;\n",
       "    }\n",
       "\n",
       "    .dataframe thead th {\n",
       "        text-align: right;\n",
       "    }\n",
       "</style>\n",
       "<table border=\"1\" class=\"dataframe\">\n",
       "  <thead>\n",
       "    <tr style=\"text-align: right;\">\n",
       "      <th></th>\n",
       "      <th>name</th>\n",
       "      <th>age</th>\n",
       "    </tr>\n",
       "  </thead>\n",
       "  <tbody>\n",
       "    <tr>\n",
       "      <th>0</th>\n",
       "      <td>Jeff</td>\n",
       "      <td>30</td>\n",
       "    </tr>\n",
       "    <tr>\n",
       "      <th>1</th>\n",
       "      <td>Esha</td>\n",
       "      <td>56</td>\n",
       "    </tr>\n",
       "    <tr>\n",
       "      <th>2</th>\n",
       "      <td>Jia</td>\n",
       "      <td>8</td>\n",
       "    </tr>\n",
       "  </tbody>\n",
       "</table>\n",
       "</div>"
      ],
      "text/plain": [
       "   name  age\n",
       "0  Jeff   30\n",
       "1  Esha   56\n",
       "2   Jia    8"
      ]
     },
     "execution_count": 2,
     "metadata": {},
     "output_type": "execute_result"
    }
   ],
   "source": [
    "import pandas as pd\n",
    "import numpy as np\n",
    "\n",
    "df = pd.DataFrame({'name': ['Jeff', 'Esha', 'Jia'], \n",
    "                   'age': [30, 56, 8]})\n",
    "df"
   ]
  },
  {
   "cell_type": "markdown",
   "id": "daad4b8d",
   "metadata": {},
   "source": [
    "### Select column"
   ]
  },
  {
   "cell_type": "markdown",
   "id": "c48d3d99",
   "metadata": {},
   "source": [
    "Now, you want to select just the name column from the DataFrame.\n",
    "\n",
    "Complete the function, `name_column(df)`, by having it return only the name column."
   ]
  },
  {
   "cell_type": "code",
   "execution_count": 3,
   "id": "9ef758f3",
   "metadata": {},
   "outputs": [],
   "source": [
    "def name_column(df):\n",
    "    return df['name']"
   ]
  },
  {
   "cell_type": "markdown",
   "id": "b933c194",
   "metadata": {},
   "source": [
    "### Select rows by label (.loc)"
   ]
  },
  {
   "cell_type": "markdown",
   "id": "1871b630",
   "metadata": {},
   "source": [
    "You can select the rows of a DataFrame one of two ways. One way is with `df.loc[...]`. `df.loc[...]` selects rows based on their index value. To select a single row, you can do `df.loc[index_value]`, for example, `df.loc[156]`. To select multiple rows, you can do `df.loc[[index_value1, index_value2]]`, for example, `df.loc[[132, 156]]`.\n",
    "\n",
    "Suppose you constructed a DataFrame by"
   ]
  },
  {
   "cell_type": "markdown",
   "id": "b86806e4",
   "metadata": {},
   "source": [
    "Complete the function, `select_Jia_row(df)`, by having it return the row with Jia in it. This should involve hard-coding the index value associated with Jia."
   ]
  },
  {
   "cell_type": "code",
   "execution_count": 4,
   "id": "bb1c304a",
   "metadata": {},
   "outputs": [],
   "source": [
    "def select_Jia_row(df):\n",
    "    return df.loc[27]"
   ]
  },
  {
   "cell_type": "markdown",
   "id": "def4d7c2",
   "metadata": {},
   "source": [
    "### Select rows by position (.iloc)"
   ]
  },
  {
   "cell_type": "markdown",
   "id": "8d85b6d4",
   "metadata": {},
   "source": [
    "To select a single row, you can do `df.iloc[position]`, for example, `df.loc[1]` selects the row with Esha below. To select multiple rows, you can do `df.iloc[[position1, position2]]`, for example, `df.loc[[0, 2]]`."
   ]
  },
  {
   "cell_type": "markdown",
   "id": "c1c960dc",
   "metadata": {},
   "source": [
    "Complete the function, `select_first_row(df)`, by having it return the first row in the DataFrame."
   ]
  },
  {
   "cell_type": "code",
   "execution_count": 5,
   "id": "fdbf0d2b",
   "metadata": {},
   "outputs": [],
   "source": [
    "def select_first_row(df):\n",
    "    return df.iloc[0]"
   ]
  },
  {
   "cell_type": "markdown",
   "id": "b338e73f",
   "metadata": {},
   "source": [
    "### Aggregate a column"
   ]
  },
  {
   "cell_type": "markdown",
   "id": "4d1c9829",
   "metadata": {},
   "source": [
    "What is the minimum value of age? Define a variable `min_ag`e with the value of `df.age.min()` would output."
   ]
  },
  {
   "cell_type": "code",
   "execution_count": 6,
   "id": "472a468e",
   "metadata": {},
   "outputs": [],
   "source": [
    "min_age = df.age.min()"
   ]
  },
  {
   "cell_type": "markdown",
   "id": "c934623f",
   "metadata": {},
   "source": [
    "### Creating a new column"
   ]
  },
  {
   "cell_type": "markdown",
   "id": "4c580448",
   "metadata": {},
   "source": [
    "Write a function, `add_can_drive(df)` which takes in the DataFrame and returns a new DataFrame with a *column can_drive which is True if the person is 16 or older and False otherwise*."
   ]
  },
  {
   "cell_type": "code",
   "execution_count": 7,
   "id": "cd94811f",
   "metadata": {},
   "outputs": [],
   "source": [
    "def add_can_drive(df):\n",
    "  df['can_drive'] = df['age'] >= 16\n",
    "  return df"
   ]
  },
  {
   "cell_type": "markdown",
   "id": "d7fa0aa4",
   "metadata": {},
   "source": [
    "another variant:"
   ]
  },
  {
   "cell_type": "code",
   "execution_count": 8,
   "id": "716ee36f",
   "metadata": {},
   "outputs": [],
   "source": [
    "def add_can_drive(df):\n",
    "  df['can_drive'] = [True if x >= 16 else False for x in df['age']]\n",
    "  return df"
   ]
  },
  {
   "cell_type": "markdown",
   "id": "88529aaa",
   "metadata": {},
   "source": [
    "### Modify a column"
   ]
  },
  {
   "cell_type": "markdown",
   "id": "92d74c65",
   "metadata": {},
   "source": [
    "Write a function, `age_in_days(df)` which takes in the DataFrame and returns a new DataFrame with the column age modified to be in terms of days instead of years."
   ]
  },
  {
   "cell_type": "code",
   "execution_count": 9,
   "id": "b5cda897",
   "metadata": {},
   "outputs": [],
   "source": [
    "def age_in_days(df):\n",
    "  df['age'] = [x * 365 for x in df['age']] \n",
    "  return df"
   ]
  },
  {
   "cell_type": "code",
   "execution_count": 10,
   "id": "8df984eb",
   "metadata": {},
   "outputs": [
    {
     "data": {
      "text/html": [
       "<div>\n",
       "<style scoped>\n",
       "    .dataframe tbody tr th:only-of-type {\n",
       "        vertical-align: middle;\n",
       "    }\n",
       "\n",
       "    .dataframe tbody tr th {\n",
       "        vertical-align: top;\n",
       "    }\n",
       "\n",
       "    .dataframe thead th {\n",
       "        text-align: right;\n",
       "    }\n",
       "</style>\n",
       "<table border=\"1\" class=\"dataframe\">\n",
       "  <thead>\n",
       "    <tr style=\"text-align: right;\">\n",
       "      <th></th>\n",
       "      <th>name</th>\n",
       "      <th>age</th>\n",
       "    </tr>\n",
       "  </thead>\n",
       "  <tbody>\n",
       "    <tr>\n",
       "      <th>0</th>\n",
       "      <td>Jeff</td>\n",
       "      <td>10950</td>\n",
       "    </tr>\n",
       "    <tr>\n",
       "      <th>1</th>\n",
       "      <td>Esha</td>\n",
       "      <td>20440</td>\n",
       "    </tr>\n",
       "    <tr>\n",
       "      <th>2</th>\n",
       "      <td>Jia</td>\n",
       "      <td>2920</td>\n",
       "    </tr>\n",
       "  </tbody>\n",
       "</table>\n",
       "</div>"
      ],
      "text/plain": [
       "   name    age\n",
       "0  Jeff  10950\n",
       "1  Esha  20440\n",
       "2   Jia   2920"
      ]
     },
     "execution_count": 10,
     "metadata": {},
     "output_type": "execute_result"
    }
   ],
   "source": [
    "age_in_days(df)"
   ]
  },
  {
   "cell_type": "markdown",
   "id": "372411e6",
   "metadata": {},
   "source": [
    "second variant:"
   ]
  },
  {
   "cell_type": "code",
   "execution_count": 11,
   "id": "792dd4b9",
   "metadata": {},
   "outputs": [],
   "source": [
    "def age_in_days2(df):\n",
    "  df['age'] *= 365\n",
    "  return df"
   ]
  },
  {
   "cell_type": "code",
   "execution_count": 12,
   "id": "73f95233",
   "metadata": {},
   "outputs": [
    {
     "data": {
      "text/html": [
       "<div>\n",
       "<style scoped>\n",
       "    .dataframe tbody tr th:only-of-type {\n",
       "        vertical-align: middle;\n",
       "    }\n",
       "\n",
       "    .dataframe tbody tr th {\n",
       "        vertical-align: top;\n",
       "    }\n",
       "\n",
       "    .dataframe thead th {\n",
       "        text-align: right;\n",
       "    }\n",
       "</style>\n",
       "<table border=\"1\" class=\"dataframe\">\n",
       "  <thead>\n",
       "    <tr style=\"text-align: right;\">\n",
       "      <th></th>\n",
       "      <th>name</th>\n",
       "      <th>age</th>\n",
       "    </tr>\n",
       "  </thead>\n",
       "  <tbody>\n",
       "    <tr>\n",
       "      <th>0</th>\n",
       "      <td>Jeff</td>\n",
       "      <td>3996750</td>\n",
       "    </tr>\n",
       "    <tr>\n",
       "      <th>1</th>\n",
       "      <td>Esha</td>\n",
       "      <td>7460600</td>\n",
       "    </tr>\n",
       "    <tr>\n",
       "      <th>2</th>\n",
       "      <td>Jia</td>\n",
       "      <td>1065800</td>\n",
       "    </tr>\n",
       "  </tbody>\n",
       "</table>\n",
       "</div>"
      ],
      "text/plain": [
       "   name      age\n",
       "0  Jeff  3996750\n",
       "1  Esha  7460600\n",
       "2   Jia  1065800"
      ]
     },
     "execution_count": 12,
     "metadata": {},
     "output_type": "execute_result"
    }
   ],
   "source": [
    "age_in_days2(df)"
   ]
  },
  {
   "cell_type": "markdown",
   "id": "aaf7b911",
   "metadata": {},
   "source": [
    "## Filter rows"
   ]
  },
  {
   "cell_type": "markdown",
   "id": "7a9d2669",
   "metadata": {},
   "source": [
    "Write a function, `only_names_that_start_with_j(df`) which takes in the DataFrame and returns a new DataFrame with rows of names that start with 'J'. Hint: the pandas `.str` functions would be helpful here."
   ]
  },
  {
   "cell_type": "code",
   "execution_count": 16,
   "id": "05f52322",
   "metadata": {},
   "outputs": [],
   "source": [
    "def only_names_that_start_with_j(df):\n",
    "  df = df[df.name.str.startswith('J')]\n",
    "  return df"
   ]
  },
  {
   "cell_type": "code",
   "execution_count": 17,
   "id": "5565ac4c",
   "metadata": {},
   "outputs": [
    {
     "data": {
      "text/html": [
       "<div>\n",
       "<style scoped>\n",
       "    .dataframe tbody tr th:only-of-type {\n",
       "        vertical-align: middle;\n",
       "    }\n",
       "\n",
       "    .dataframe tbody tr th {\n",
       "        vertical-align: top;\n",
       "    }\n",
       "\n",
       "    .dataframe thead th {\n",
       "        text-align: right;\n",
       "    }\n",
       "</style>\n",
       "<table border=\"1\" class=\"dataframe\">\n",
       "  <thead>\n",
       "    <tr style=\"text-align: right;\">\n",
       "      <th></th>\n",
       "      <th>name</th>\n",
       "      <th>age</th>\n",
       "    </tr>\n",
       "  </thead>\n",
       "  <tbody>\n",
       "    <tr>\n",
       "      <th>0</th>\n",
       "      <td>Jeff</td>\n",
       "      <td>3996750</td>\n",
       "    </tr>\n",
       "    <tr>\n",
       "      <th>2</th>\n",
       "      <td>Jia</td>\n",
       "      <td>1065800</td>\n",
       "    </tr>\n",
       "  </tbody>\n",
       "</table>\n",
       "</div>"
      ],
      "text/plain": [
       "   name      age\n",
       "0  Jeff  3996750\n",
       "2   Jia  1065800"
      ]
     },
     "execution_count": 17,
     "metadata": {},
     "output_type": "execute_result"
    }
   ],
   "source": [
    "only_names_that_start_with_j(df)"
   ]
  },
  {
   "cell_type": "markdown",
   "id": "9b23a7f8",
   "metadata": {},
   "source": [
    "second variant:"
   ]
  },
  {
   "cell_type": "code",
   "execution_count": 18,
   "id": "e613abbd",
   "metadata": {},
   "outputs": [],
   "source": [
    "def only_names_that_start_with_j2(df):\n",
    "  filt1 = df['name'].str.startswith('J')\n",
    "  df = df.loc[filt1]\n",
    "  return df"
   ]
  },
  {
   "cell_type": "markdown",
   "id": "c1d9efe6",
   "metadata": {},
   "source": [
    "## Select rows by boolean expressions"
   ]
  },
  {
   "cell_type": "markdown",
   "id": "21681212",
   "metadata": {},
   "source": [
    "Complete the function, `select_target_audience(df)`, by having it return the rows with people who are **between 21 and 40** years old (inclusive) and live in **New York or Tokyo**."
   ]
  },
  {
   "cell_type": "code",
   "execution_count": 19,
   "id": "36f4763d",
   "metadata": {},
   "outputs": [],
   "source": [
    "df = pd.DataFrame({'name': ['Jeff', 'Esha', 'Jia', 'Hatori', 'Ashley'], \n",
    "                   'age': [30, 56, 8, 38, 20],\n",
    "                   'city': ['New York', 'Atlanta', 'Shanghai', 'Tokyo', 'New York']})"
   ]
  },
  {
   "cell_type": "code",
   "execution_count": 20,
   "id": "d233456e",
   "metadata": {},
   "outputs": [],
   "source": [
    "def select_target_audience(df):\n",
    "    df = df[(df.age >=21) & (df.age <=40) & (df.city == 'New York') | (df.city == 'Tokyo')]\n",
    "    return df  "
   ]
  },
  {
   "cell_type": "code",
   "execution_count": 21,
   "id": "6f34a0a2",
   "metadata": {},
   "outputs": [
    {
     "data": {
      "text/html": [
       "<div>\n",
       "<style scoped>\n",
       "    .dataframe tbody tr th:only-of-type {\n",
       "        vertical-align: middle;\n",
       "    }\n",
       "\n",
       "    .dataframe tbody tr th {\n",
       "        vertical-align: top;\n",
       "    }\n",
       "\n",
       "    .dataframe thead th {\n",
       "        text-align: right;\n",
       "    }\n",
       "</style>\n",
       "<table border=\"1\" class=\"dataframe\">\n",
       "  <thead>\n",
       "    <tr style=\"text-align: right;\">\n",
       "      <th></th>\n",
       "      <th>name</th>\n",
       "      <th>age</th>\n",
       "      <th>city</th>\n",
       "    </tr>\n",
       "  </thead>\n",
       "  <tbody>\n",
       "    <tr>\n",
       "      <th>0</th>\n",
       "      <td>Jeff</td>\n",
       "      <td>30</td>\n",
       "      <td>New York</td>\n",
       "    </tr>\n",
       "    <tr>\n",
       "      <th>3</th>\n",
       "      <td>Hatori</td>\n",
       "      <td>38</td>\n",
       "      <td>Tokyo</td>\n",
       "    </tr>\n",
       "  </tbody>\n",
       "</table>\n",
       "</div>"
      ],
      "text/plain": [
       "     name  age      city\n",
       "0    Jeff   30  New York\n",
       "3  Hatori   38     Tokyo"
      ]
     },
     "execution_count": 21,
     "metadata": {},
     "output_type": "execute_result"
    }
   ],
   "source": [
    "select_target_audience(df)"
   ]
  },
  {
   "cell_type": "markdown",
   "id": "c96f686f",
   "metadata": {},
   "source": [
    "You can make complex boolean (true/false) expressions to select or filter rows in your DataFrame. For example, if our DataFrame had a column age, we could select people who are 16 or older by doing `df[df.age >= 16]`. But suppose we wanted people who are 16 and older and live in New York. Then we could select them by doing `df[(df.age >= 16) & (df.city == 'New York')]`. The & in that expression means \"and\", | means \"or\" and ~ means \"not\". Unfortunately, you can't use the python operators and, or, and not with Pandas objects.\n",
    "\n",
    "One gotcha about using & (and) and | (or) to make boolean expressions in Pandas is that you need to wrap each piece between a & or | in parenthesis. This is an unfortunate issue due to the way python evaluates operators. If you are interested, you can read more about it here. In either case, remember to wrap each piece in parenthesis!"
   ]
  },
  {
   "cell_type": "markdown",
   "id": "14452004",
   "metadata": {},
   "source": [
    "## Conditional column update"
   ]
  },
  {
   "cell_type": "markdown",
   "id": "7c80b63d",
   "metadata": {},
   "source": [
    "Suppose we realize after collecting a bunch of data that our process incorrectly set the age of people in New York and Atlanta one year less than it was suppose to. Complete the function, correct_age_in_error_cities(df), by having it increment the age of people living in New York or Atlanta by one year."
   ]
  },
  {
   "cell_type": "code",
   "execution_count": 22,
   "id": "1a50c845",
   "metadata": {},
   "outputs": [],
   "source": [
    "df = pd.DataFrame({'name': ['Jeff', 'Esha', 'Jia', 'Hatori', 'Ashley'], \n",
    "                   'age': [30, 56, 8, 38, 20],\n",
    "                   'city': ['New York', 'Atlanta', 'Shanghai', 'Tokyo', 'New York']})"
   ]
  },
  {
   "cell_type": "code",
   "execution_count": 23,
   "id": "b00a3a9b",
   "metadata": {},
   "outputs": [],
   "source": [
    "def correct_age_in_error_cities(df):\n",
    "    df.loc[((df['city']=='New York')| (df['city']=='Tokyo')),'age']=df['age']+1\n",
    "    return df"
   ]
  },
  {
   "cell_type": "code",
   "execution_count": 24,
   "id": "1d54d6ae",
   "metadata": {},
   "outputs": [
    {
     "data": {
      "text/html": [
       "<div>\n",
       "<style scoped>\n",
       "    .dataframe tbody tr th:only-of-type {\n",
       "        vertical-align: middle;\n",
       "    }\n",
       "\n",
       "    .dataframe tbody tr th {\n",
       "        vertical-align: top;\n",
       "    }\n",
       "\n",
       "    .dataframe thead th {\n",
       "        text-align: right;\n",
       "    }\n",
       "</style>\n",
       "<table border=\"1\" class=\"dataframe\">\n",
       "  <thead>\n",
       "    <tr style=\"text-align: right;\">\n",
       "      <th></th>\n",
       "      <th>name</th>\n",
       "      <th>age</th>\n",
       "      <th>city</th>\n",
       "    </tr>\n",
       "  </thead>\n",
       "  <tbody>\n",
       "    <tr>\n",
       "      <th>0</th>\n",
       "      <td>Jeff</td>\n",
       "      <td>31</td>\n",
       "      <td>New York</td>\n",
       "    </tr>\n",
       "    <tr>\n",
       "      <th>1</th>\n",
       "      <td>Esha</td>\n",
       "      <td>56</td>\n",
       "      <td>Atlanta</td>\n",
       "    </tr>\n",
       "    <tr>\n",
       "      <th>2</th>\n",
       "      <td>Jia</td>\n",
       "      <td>8</td>\n",
       "      <td>Shanghai</td>\n",
       "    </tr>\n",
       "    <tr>\n",
       "      <th>3</th>\n",
       "      <td>Hatori</td>\n",
       "      <td>39</td>\n",
       "      <td>Tokyo</td>\n",
       "    </tr>\n",
       "    <tr>\n",
       "      <th>4</th>\n",
       "      <td>Ashley</td>\n",
       "      <td>21</td>\n",
       "      <td>New York</td>\n",
       "    </tr>\n",
       "  </tbody>\n",
       "</table>\n",
       "</div>"
      ],
      "text/plain": [
       "     name  age      city\n",
       "0    Jeff   31  New York\n",
       "1    Esha   56   Atlanta\n",
       "2     Jia    8  Shanghai\n",
       "3  Hatori   39     Tokyo\n",
       "4  Ashley   21  New York"
      ]
     },
     "execution_count": 24,
     "metadata": {},
     "output_type": "execute_result"
    }
   ],
   "source": [
    "correct_age_in_error_cities(df)"
   ]
  },
  {
   "cell_type": "markdown",
   "id": "a54877a6",
   "metadata": {},
   "source": [
    "## Bucketing values using cut\n"
   ]
  },
  {
   "cell_type": "markdown",
   "id": "8ae9440c",
   "metadata": {},
   "source": [
    "Write a function, add_age_bracket(df) which takes in the DataFrame and returns a DataFrame with an additional column age_bracket where the brackets are:\n",
    "\n",
    "\"0-10\"  \n",
    "\"11-18\"  \n",
    "\"19-30\"  \n",
    "\"31-50\"  \n",
    "\"51-65\"  \n",
    "\"66-80\"  \n",
    "\"81-120\"  "
   ]
  },
  {
   "cell_type": "code",
   "execution_count": 25,
   "id": "786bb23c",
   "metadata": {},
   "outputs": [],
   "source": [
    "df = pd.DataFrame({'name': ['Jeff', 'Esha', 'Jia', 'Hatori', 'Ashley'], \n",
    "                   'age': [30, 56, 8, 38, 20],\n",
    "                   'city': ['New York', 'Atlanta', 'Shanghai', 'Tokyo', 'New York']})"
   ]
  },
  {
   "cell_type": "markdown",
   "id": "34caf96b",
   "metadata": {},
   "source": [
    "1st variant with tuples"
   ]
  },
  {
   "cell_type": "code",
   "execution_count": 26,
   "id": "1f434148",
   "metadata": {},
   "outputs": [],
   "source": [
    "def add_age_bracket(df):\n",
    "  bins = pd.IntervalIndex.from_tuples([(0,10), (11,18), (19,30), (31,50), (51,65), (66,80), (81,120)]) \n",
    "  df['age_bracket'] = pd.cut(df['age'], bins)\n",
    "  return df"
   ]
  },
  {
   "cell_type": "code",
   "execution_count": 27,
   "id": "559793d7",
   "metadata": {},
   "outputs": [
    {
     "data": {
      "text/html": [
       "<div>\n",
       "<style scoped>\n",
       "    .dataframe tbody tr th:only-of-type {\n",
       "        vertical-align: middle;\n",
       "    }\n",
       "\n",
       "    .dataframe tbody tr th {\n",
       "        vertical-align: top;\n",
       "    }\n",
       "\n",
       "    .dataframe thead th {\n",
       "        text-align: right;\n",
       "    }\n",
       "</style>\n",
       "<table border=\"1\" class=\"dataframe\">\n",
       "  <thead>\n",
       "    <tr style=\"text-align: right;\">\n",
       "      <th></th>\n",
       "      <th>name</th>\n",
       "      <th>age</th>\n",
       "      <th>city</th>\n",
       "      <th>age_bracket</th>\n",
       "    </tr>\n",
       "  </thead>\n",
       "  <tbody>\n",
       "    <tr>\n",
       "      <th>0</th>\n",
       "      <td>Jeff</td>\n",
       "      <td>30</td>\n",
       "      <td>New York</td>\n",
       "      <td>(19, 30]</td>\n",
       "    </tr>\n",
       "    <tr>\n",
       "      <th>1</th>\n",
       "      <td>Esha</td>\n",
       "      <td>56</td>\n",
       "      <td>Atlanta</td>\n",
       "      <td>(51, 65]</td>\n",
       "    </tr>\n",
       "    <tr>\n",
       "      <th>2</th>\n",
       "      <td>Jia</td>\n",
       "      <td>8</td>\n",
       "      <td>Shanghai</td>\n",
       "      <td>(0, 10]</td>\n",
       "    </tr>\n",
       "    <tr>\n",
       "      <th>3</th>\n",
       "      <td>Hatori</td>\n",
       "      <td>38</td>\n",
       "      <td>Tokyo</td>\n",
       "      <td>(31, 50]</td>\n",
       "    </tr>\n",
       "    <tr>\n",
       "      <th>4</th>\n",
       "      <td>Ashley</td>\n",
       "      <td>20</td>\n",
       "      <td>New York</td>\n",
       "      <td>(19, 30]</td>\n",
       "    </tr>\n",
       "  </tbody>\n",
       "</table>\n",
       "</div>"
      ],
      "text/plain": [
       "     name  age      city age_bracket\n",
       "0    Jeff   30  New York    (19, 30]\n",
       "1    Esha   56   Atlanta    (51, 65]\n",
       "2     Jia    8  Shanghai     (0, 10]\n",
       "3  Hatori   38     Tokyo    (31, 50]\n",
       "4  Ashley   20  New York    (19, 30]"
      ]
     },
     "execution_count": 27,
     "metadata": {},
     "output_type": "execute_result"
    }
   ],
   "source": [
    "add_age_bracket(df)"
   ]
  },
  {
   "cell_type": "markdown",
   "id": "e88db1d5",
   "metadata": {},
   "source": [
    "2nd varinat with labels"
   ]
  },
  {
   "cell_type": "code",
   "execution_count": 28,
   "id": "5e8a0e7b",
   "metadata": {},
   "outputs": [],
   "source": [
    "def add_age_bracket(df):\n",
    "    bins=[0, 10, 18, 30, 50, 65, 80, 120]\n",
    "    labels=['0-10', '11-18', '19-30', '31-50', '51-65', '66-80', '81-120']\n",
    "    df['age_bracket'] = pd.cut(df['age'], bins, labels=labels)\n",
    "    return df"
   ]
  },
  {
   "cell_type": "code",
   "execution_count": 29,
   "id": "987c2faf",
   "metadata": {},
   "outputs": [
    {
     "data": {
      "text/html": [
       "<div>\n",
       "<style scoped>\n",
       "    .dataframe tbody tr th:only-of-type {\n",
       "        vertical-align: middle;\n",
       "    }\n",
       "\n",
       "    .dataframe tbody tr th {\n",
       "        vertical-align: top;\n",
       "    }\n",
       "\n",
       "    .dataframe thead th {\n",
       "        text-align: right;\n",
       "    }\n",
       "</style>\n",
       "<table border=\"1\" class=\"dataframe\">\n",
       "  <thead>\n",
       "    <tr style=\"text-align: right;\">\n",
       "      <th></th>\n",
       "      <th>name</th>\n",
       "      <th>age</th>\n",
       "      <th>city</th>\n",
       "      <th>age_bracket</th>\n",
       "    </tr>\n",
       "  </thead>\n",
       "  <tbody>\n",
       "    <tr>\n",
       "      <th>0</th>\n",
       "      <td>Jeff</td>\n",
       "      <td>30</td>\n",
       "      <td>New York</td>\n",
       "      <td>19-30</td>\n",
       "    </tr>\n",
       "    <tr>\n",
       "      <th>1</th>\n",
       "      <td>Esha</td>\n",
       "      <td>56</td>\n",
       "      <td>Atlanta</td>\n",
       "      <td>51-65</td>\n",
       "    </tr>\n",
       "    <tr>\n",
       "      <th>2</th>\n",
       "      <td>Jia</td>\n",
       "      <td>8</td>\n",
       "      <td>Shanghai</td>\n",
       "      <td>0-10</td>\n",
       "    </tr>\n",
       "    <tr>\n",
       "      <th>3</th>\n",
       "      <td>Hatori</td>\n",
       "      <td>38</td>\n",
       "      <td>Tokyo</td>\n",
       "      <td>31-50</td>\n",
       "    </tr>\n",
       "    <tr>\n",
       "      <th>4</th>\n",
       "      <td>Ashley</td>\n",
       "      <td>20</td>\n",
       "      <td>New York</td>\n",
       "      <td>19-30</td>\n",
       "    </tr>\n",
       "  </tbody>\n",
       "</table>\n",
       "</div>"
      ],
      "text/plain": [
       "     name  age      city age_bracket\n",
       "0    Jeff   30  New York       19-30\n",
       "1    Esha   56   Atlanta       51-65\n",
       "2     Jia    8  Shanghai        0-10\n",
       "3  Hatori   38     Tokyo       31-50\n",
       "4  Ashley   20  New York       19-30"
      ]
     },
     "execution_count": 29,
     "metadata": {},
     "output_type": "execute_result"
    }
   ],
   "source": [
    "add_age_bracket(df)"
   ]
  },
  {
   "cell_type": "markdown",
   "id": "95cab3a7",
   "metadata": {},
   "source": [
    "## Map a function over each row"
   ]
  },
  {
   "cell_type": "markdown",
   "id": "06fd1bf1",
   "metadata": {},
   "source": [
    "You can apply a function to each row in a DataFrame using `df.map(function)`"
   ]
  },
  {
   "cell_type": "markdown",
   "id": "5876f3da",
   "metadata": {},
   "source": [
    "Write a function, `add_name_reverse_name(df)` that adds a new column, name_reverse_name to the DataFrame which is the concatenation of the person's name and the reverse of their name. For example, \"Jeff\" would be \"JeffffeJ"
   ]
  },
  {
   "cell_type": "code",
   "execution_count": 30,
   "id": "9521e460",
   "metadata": {},
   "outputs": [],
   "source": [
    "import pandas as pd\n",
    "\n",
    "df = pd.DataFrame({'name': ['Jeff', 'Esha', 'Jia'], \n",
    "                   'age': [30, 56, 8]})"
   ]
  },
  {
   "cell_type": "markdown",
   "id": "95c113aa",
   "metadata": {},
   "source": [
    "`[::-1]` - reverse string or other values"
   ]
  },
  {
   "cell_type": "code",
   "execution_count": 31,
   "id": "82572c3b",
   "metadata": {},
   "outputs": [],
   "source": [
    "def add_name_reverse_name(df):\n",
    "  df['name_reverse_name'] = df['name'].map(lambda x: x + x[::-1])\n",
    "  return df"
   ]
  },
  {
   "cell_type": "code",
   "execution_count": 32,
   "id": "57267c5d",
   "metadata": {},
   "outputs": [
    {
     "data": {
      "text/html": [
       "<div>\n",
       "<style scoped>\n",
       "    .dataframe tbody tr th:only-of-type {\n",
       "        vertical-align: middle;\n",
       "    }\n",
       "\n",
       "    .dataframe tbody tr th {\n",
       "        vertical-align: top;\n",
       "    }\n",
       "\n",
       "    .dataframe thead th {\n",
       "        text-align: right;\n",
       "    }\n",
       "</style>\n",
       "<table border=\"1\" class=\"dataframe\">\n",
       "  <thead>\n",
       "    <tr style=\"text-align: right;\">\n",
       "      <th></th>\n",
       "      <th>name</th>\n",
       "      <th>age</th>\n",
       "      <th>name_reverse_name</th>\n",
       "    </tr>\n",
       "  </thead>\n",
       "  <tbody>\n",
       "    <tr>\n",
       "      <th>0</th>\n",
       "      <td>Jeff</td>\n",
       "      <td>30</td>\n",
       "      <td>JeffffeJ</td>\n",
       "    </tr>\n",
       "    <tr>\n",
       "      <th>1</th>\n",
       "      <td>Esha</td>\n",
       "      <td>56</td>\n",
       "      <td>EshaahsE</td>\n",
       "    </tr>\n",
       "    <tr>\n",
       "      <th>2</th>\n",
       "      <td>Jia</td>\n",
       "      <td>8</td>\n",
       "      <td>JiaaiJ</td>\n",
       "    </tr>\n",
       "  </tbody>\n",
       "</table>\n",
       "</div>"
      ],
      "text/plain": [
       "   name  age name_reverse_name\n",
       "0  Jeff   30          JeffffeJ\n",
       "1  Esha   56          EshaahsE\n",
       "2   Jia    8            JiaaiJ"
      ]
     },
     "execution_count": 32,
     "metadata": {},
     "output_type": "execute_result"
    }
   ],
   "source": [
    "add_name_reverse_name(df)"
   ]
  },
  {
   "cell_type": "markdown",
   "id": "c609a330",
   "metadata": {},
   "source": [
    "## Impute missing values"
   ]
  },
  {
   "cell_type": "markdown",
   "id": "8307bd18",
   "metadata": {},
   "source": [
    "Imputing data is replacing missing data with substituted values. Missing data is typically represented by a value nan (not a number). Keep in mind, depending on the dataset, missing values can be represented differently. You can replace nan values using the function `fillna`"
   ]
  },
  {
   "cell_type": "markdown",
   "id": "0c11b318",
   "metadata": {},
   "source": [
    "Write a function, `fillna_age_with_mean(df)` which takes in the DataFrame and updates the column age so that nan rows are set to the mean age of all the rows."
   ]
  },
  {
   "cell_type": "code",
   "execution_count": 229,
   "id": "d12305d2",
   "metadata": {},
   "outputs": [],
   "source": [
    "import numpy as np\n",
    "df = pd.DataFrame({'name': ['Jeff', 'Esha', 'Jia', 'Bobby'], \n",
    "                   'age': [30, 56, 8, np.nan]})"
   ]
  },
  {
   "cell_type": "code",
   "execution_count": 230,
   "id": "a146982d",
   "metadata": {},
   "outputs": [],
   "source": [
    "import pandas as pd\n",
    "import numpy as np\n",
    "\n",
    "def fillna_age_with_mean(df):\n",
    "  df = df['age'].fillna(df['age'].mean())\n",
    "  return df"
   ]
  },
  {
   "cell_type": "code",
   "execution_count": 241,
   "id": "aa1d3016",
   "metadata": {},
   "outputs": [
    {
     "data": {
      "text/plain": [
       "0    30.000000\n",
       "1    56.000000\n",
       "2     8.000000\n",
       "3    31.333333\n",
       "Name: age, dtype: float64"
      ]
     },
     "execution_count": 241,
     "metadata": {},
     "output_type": "execute_result"
    }
   ],
   "source": [
    "fillna_age_with_mean(df)"
   ]
  },
  {
   "cell_type": "markdown",
   "id": "1537e63a",
   "metadata": {},
   "source": [
    "## Melt a wide table to long table\n"
   ]
  },
  {
   "cell_type": "markdown",
   "id": "8131e883",
   "metadata": {},
   "source": [
    "Pandas has a function, `melt`, which can be thought of as the opposite of pivot. It takes a table with multiple columns and converts it into a table where the column and value are represented as rows."
   ]
  },
  {
   "cell_type": "markdown",
   "id": "b641b9ce",
   "metadata": {},
   "source": [
    "**Task**: Write a function, `melter(df)` which takes in the DataFrame, df and melts all the columns into rows. The resulting table should have two columns, variable and value."
   ]
  },
  {
   "cell_type": "code",
   "execution_count": 36,
   "id": "3c4e407f",
   "metadata": {},
   "outputs": [],
   "source": [
    "df = pd.DataFrame({'a': [1, 2], 'b': [5, 6], 'c': [9, 10]})"
   ]
  },
  {
   "cell_type": "code",
   "execution_count": 37,
   "id": "c97f04de",
   "metadata": {},
   "outputs": [],
   "source": [
    "def melter(df):\n",
    "  return df.melt()"
   ]
  },
  {
   "cell_type": "code",
   "execution_count": 38,
   "id": "75146942",
   "metadata": {},
   "outputs": [
    {
     "data": {
      "text/html": [
       "<div>\n",
       "<style scoped>\n",
       "    .dataframe tbody tr th:only-of-type {\n",
       "        vertical-align: middle;\n",
       "    }\n",
       "\n",
       "    .dataframe tbody tr th {\n",
       "        vertical-align: top;\n",
       "    }\n",
       "\n",
       "    .dataframe thead th {\n",
       "        text-align: right;\n",
       "    }\n",
       "</style>\n",
       "<table border=\"1\" class=\"dataframe\">\n",
       "  <thead>\n",
       "    <tr style=\"text-align: right;\">\n",
       "      <th></th>\n",
       "      <th>variable</th>\n",
       "      <th>value</th>\n",
       "    </tr>\n",
       "  </thead>\n",
       "  <tbody>\n",
       "    <tr>\n",
       "      <th>0</th>\n",
       "      <td>a</td>\n",
       "      <td>1</td>\n",
       "    </tr>\n",
       "    <tr>\n",
       "      <th>1</th>\n",
       "      <td>a</td>\n",
       "      <td>2</td>\n",
       "    </tr>\n",
       "    <tr>\n",
       "      <th>2</th>\n",
       "      <td>b</td>\n",
       "      <td>5</td>\n",
       "    </tr>\n",
       "    <tr>\n",
       "      <th>3</th>\n",
       "      <td>b</td>\n",
       "      <td>6</td>\n",
       "    </tr>\n",
       "    <tr>\n",
       "      <th>4</th>\n",
       "      <td>c</td>\n",
       "      <td>9</td>\n",
       "    </tr>\n",
       "    <tr>\n",
       "      <th>5</th>\n",
       "      <td>c</td>\n",
       "      <td>10</td>\n",
       "    </tr>\n",
       "  </tbody>\n",
       "</table>\n",
       "</div>"
      ],
      "text/plain": [
       "  variable  value\n",
       "0        a      1\n",
       "1        a      2\n",
       "2        b      5\n",
       "3        b      6\n",
       "4        c      9\n",
       "5        c     10"
      ]
     },
     "execution_count": 38,
     "metadata": {},
     "output_type": "execute_result"
    }
   ],
   "source": [
    "melter(df)"
   ]
  },
  {
   "cell_type": "markdown",
   "id": "37fd7dd5",
   "metadata": {},
   "source": [
    "## Find NaN rows"
   ]
  },
  {
   "cell_type": "markdown",
   "id": "9b617d18",
   "metadata": {},
   "source": [
    "Write a function, `na_rows(df)` which takes in the DataFrame, df and returns only the rows that have at least one missing (None or NaN) element."
   ]
  },
  {
   "cell_type": "code",
   "execution_count": 39,
   "id": "a4779e6b",
   "metadata": {},
   "outputs": [],
   "source": [
    "df = pd.DataFrame({'count': [np.NaN, 2, 3], 'fruit': ['apple', None, 95]})"
   ]
  },
  {
   "cell_type": "code",
   "execution_count": 40,
   "id": "6c6441a4",
   "metadata": {},
   "outputs": [],
   "source": [
    "def na_rows(df):\n",
    "  df = df[df.isna().any(axis=1)]\n",
    "  return df"
   ]
  },
  {
   "cell_type": "code",
   "execution_count": 41,
   "id": "4b052dd9",
   "metadata": {},
   "outputs": [
    {
     "data": {
      "text/html": [
       "<div>\n",
       "<style scoped>\n",
       "    .dataframe tbody tr th:only-of-type {\n",
       "        vertical-align: middle;\n",
       "    }\n",
       "\n",
       "    .dataframe tbody tr th {\n",
       "        vertical-align: top;\n",
       "    }\n",
       "\n",
       "    .dataframe thead th {\n",
       "        text-align: right;\n",
       "    }\n",
       "</style>\n",
       "<table border=\"1\" class=\"dataframe\">\n",
       "  <thead>\n",
       "    <tr style=\"text-align: right;\">\n",
       "      <th></th>\n",
       "      <th>count</th>\n",
       "      <th>fruit</th>\n",
       "    </tr>\n",
       "  </thead>\n",
       "  <tbody>\n",
       "    <tr>\n",
       "      <th>0</th>\n",
       "      <td>NaN</td>\n",
       "      <td>apple</td>\n",
       "    </tr>\n",
       "    <tr>\n",
       "      <th>1</th>\n",
       "      <td>2.0</td>\n",
       "      <td>None</td>\n",
       "    </tr>\n",
       "  </tbody>\n",
       "</table>\n",
       "</div>"
      ],
      "text/plain": [
       "   count  fruit\n",
       "0    NaN  apple\n",
       "1    2.0   None"
      ]
     },
     "execution_count": 41,
     "metadata": {},
     "output_type": "execute_result"
    }
   ],
   "source": [
    "na_rows(df)"
   ]
  },
  {
   "cell_type": "markdown",
   "id": "64d29645",
   "metadata": {},
   "source": [
    "## Preparing a heatmap"
   ]
  },
  {
   "cell_type": "markdown",
   "id": "9c443b65",
   "metadata": {},
   "source": [
    "You have a table of results from optimizing two hyperparameters of a machine learning algorithm. The table looks like"
   ]
  },
  {
   "attachments": {
    "image.png": {
     "image/png": "[encoded data removed]"
    }
   },
   "cell_type": "markdown",
   "id": "4f5e03cf",
   "metadata": {},
   "source": [
    "![image.png](attachment:image.png)"
   ]
  },
  {
   "cell_type": "markdown",
   "id": "6bb26df3",
   "metadata": {},
   "source": [
    "Which was generated by looping over values of both alpha and beta and calculating the accuracy given those settings."
   ]
  },
  {
   "cell_type": "code",
   "execution_count": 176,
   "id": "747255ca",
   "metadata": {},
   "outputs": [],
   "source": [
    "results = []\n",
    "for alpha in np.round(np.linspace(0, 1, 4), 1):\n",
    "    for beta in np.round(np.linspace(0, 1, 4), 1):\n",
    "        alpha_contrib = 0.5 - (alpha - 0.5)**2\n",
    "        beta_contrib = 0.5 - (beta - 0.8)**2\n",
    "        acc = np.minimum(1, alpha_contrib+beta_contrib+np.random.randn()*0.01)\n",
    "        results.append(dict(alpha=alpha, beta=beta, accuracy=acc))\n",
    "df = pd.DataFrame(results)"
   ]
  },
  {
   "cell_type": "code",
   "execution_count": 177,
   "id": "03a074ac",
   "metadata": {},
   "outputs": [
    {
     "data": {
      "text/html": [
       "<div>\n",
       "<style scoped>\n",
       "    .dataframe tbody tr th:only-of-type {\n",
       "        vertical-align: middle;\n",
       "    }\n",
       "\n",
       "    .dataframe tbody tr th {\n",
       "        vertical-align: top;\n",
       "    }\n",
       "\n",
       "    .dataframe thead th {\n",
       "        text-align: right;\n",
       "    }\n",
       "</style>\n",
       "<table border=\"1\" class=\"dataframe\">\n",
       "  <thead>\n",
       "    <tr style=\"text-align: right;\">\n",
       "      <th></th>\n",
       "      <th>alpha</th>\n",
       "      <th>beta</th>\n",
       "      <th>accuracy</th>\n",
       "    </tr>\n",
       "  </thead>\n",
       "  <tbody>\n",
       "    <tr>\n",
       "      <th>0</th>\n",
       "      <td>0.0</td>\n",
       "      <td>0.0</td>\n",
       "      <td>0.120106</td>\n",
       "    </tr>\n",
       "    <tr>\n",
       "      <th>1</th>\n",
       "      <td>0.0</td>\n",
       "      <td>0.3</td>\n",
       "      <td>0.477065</td>\n",
       "    </tr>\n",
       "    <tr>\n",
       "      <th>2</th>\n",
       "      <td>0.0</td>\n",
       "      <td>0.7</td>\n",
       "      <td>0.749790</td>\n",
       "    </tr>\n",
       "    <tr>\n",
       "      <th>3</th>\n",
       "      <td>0.0</td>\n",
       "      <td>1.0</td>\n",
       "      <td>0.709770</td>\n",
       "    </tr>\n",
       "    <tr>\n",
       "      <th>4</th>\n",
       "      <td>0.3</td>\n",
       "      <td>0.0</td>\n",
       "      <td>0.322358</td>\n",
       "    </tr>\n",
       "    <tr>\n",
       "      <th>5</th>\n",
       "      <td>0.3</td>\n",
       "      <td>0.3</td>\n",
       "      <td>0.705023</td>\n",
       "    </tr>\n",
       "    <tr>\n",
       "      <th>6</th>\n",
       "      <td>0.3</td>\n",
       "      <td>0.7</td>\n",
       "      <td>0.948773</td>\n",
       "    </tr>\n",
       "    <tr>\n",
       "      <th>7</th>\n",
       "      <td>0.3</td>\n",
       "      <td>1.0</td>\n",
       "      <td>0.918517</td>\n",
       "    </tr>\n",
       "    <tr>\n",
       "      <th>8</th>\n",
       "      <td>0.7</td>\n",
       "      <td>0.0</td>\n",
       "      <td>0.302878</td>\n",
       "    </tr>\n",
       "    <tr>\n",
       "      <th>9</th>\n",
       "      <td>0.7</td>\n",
       "      <td>0.3</td>\n",
       "      <td>0.712140</td>\n",
       "    </tr>\n",
       "    <tr>\n",
       "      <th>10</th>\n",
       "      <td>0.7</td>\n",
       "      <td>0.7</td>\n",
       "      <td>0.950739</td>\n",
       "    </tr>\n",
       "    <tr>\n",
       "      <th>11</th>\n",
       "      <td>0.7</td>\n",
       "      <td>1.0</td>\n",
       "      <td>0.909200</td>\n",
       "    </tr>\n",
       "    <tr>\n",
       "      <th>12</th>\n",
       "      <td>1.0</td>\n",
       "      <td>0.0</td>\n",
       "      <td>0.117626</td>\n",
       "    </tr>\n",
       "    <tr>\n",
       "      <th>13</th>\n",
       "      <td>1.0</td>\n",
       "      <td>0.3</td>\n",
       "      <td>0.506285</td>\n",
       "    </tr>\n",
       "    <tr>\n",
       "      <th>14</th>\n",
       "      <td>1.0</td>\n",
       "      <td>0.7</td>\n",
       "      <td>0.734329</td>\n",
       "    </tr>\n",
       "    <tr>\n",
       "      <th>15</th>\n",
       "      <td>1.0</td>\n",
       "      <td>1.0</td>\n",
       "      <td>0.705285</td>\n",
       "    </tr>\n",
       "  </tbody>\n",
       "</table>\n",
       "</div>"
      ],
      "text/plain": [
       "    alpha  beta  accuracy\n",
       "0     0.0   0.0  0.120106\n",
       "1     0.0   0.3  0.477065\n",
       "2     0.0   0.7  0.749790\n",
       "3     0.0   1.0  0.709770\n",
       "4     0.3   0.0  0.322358\n",
       "5     0.3   0.3  0.705023\n",
       "6     0.3   0.7  0.948773\n",
       "7     0.3   1.0  0.918517\n",
       "8     0.7   0.0  0.302878\n",
       "9     0.7   0.3  0.712140\n",
       "10    0.7   0.7  0.950739\n",
       "11    0.7   1.0  0.909200\n",
       "12    1.0   0.0  0.117626\n",
       "13    1.0   0.3  0.506285\n",
       "14    1.0   0.7  0.734329\n",
       "15    1.0   1.0  0.705285"
      ]
     },
     "execution_count": 177,
     "metadata": {},
     "output_type": "execute_result"
    }
   ],
   "source": [
    "df"
   ]
  },
  {
   "cell_type": "markdown",
   "id": "94713159",
   "metadata": {},
   "source": [
    "Write a function, `prepare_for_heatmap(df)` which has one column for each value of alpha, one row for each value of beta and the accuracy associated with the pair as the value."
   ]
  },
  {
   "cell_type": "code",
   "execution_count": 180,
   "id": "df80962c",
   "metadata": {},
   "outputs": [],
   "source": [
    "def prepare_for_heatmap(df):\n",
    "    pivot_df = df.pivot_table(index='beta', columns='alpha', values='accuracy').rename_axis(index=None)\n",
    "    return pivot_df"
   ]
  },
  {
   "cell_type": "code",
   "execution_count": 179,
   "id": "72655215",
   "metadata": {},
   "outputs": [
    {
     "data": {
      "text/html": [
       "<div>\n",
       "<style scoped>\n",
       "    .dataframe tbody tr th:only-of-type {\n",
       "        vertical-align: middle;\n",
       "    }\n",
       "\n",
       "    .dataframe tbody tr th {\n",
       "        vertical-align: top;\n",
       "    }\n",
       "\n",
       "    .dataframe thead th {\n",
       "        text-align: right;\n",
       "    }\n",
       "</style>\n",
       "<table border=\"1\" class=\"dataframe\">\n",
       "  <thead>\n",
       "    <tr style=\"text-align: right;\">\n",
       "      <th>beta</th>\n",
       "      <th>0.0</th>\n",
       "      <th>0.3</th>\n",
       "      <th>0.7</th>\n",
       "      <th>1.0</th>\n",
       "    </tr>\n",
       "  </thead>\n",
       "  <tbody>\n",
       "    <tr>\n",
       "      <th>0.0</th>\n",
       "      <td>0.120106</td>\n",
       "      <td>0.477065</td>\n",
       "      <td>0.749790</td>\n",
       "      <td>0.709770</td>\n",
       "    </tr>\n",
       "    <tr>\n",
       "      <th>0.3</th>\n",
       "      <td>0.322358</td>\n",
       "      <td>0.705023</td>\n",
       "      <td>0.948773</td>\n",
       "      <td>0.918517</td>\n",
       "    </tr>\n",
       "    <tr>\n",
       "      <th>0.7</th>\n",
       "      <td>0.302878</td>\n",
       "      <td>0.712140</td>\n",
       "      <td>0.950739</td>\n",
       "      <td>0.909200</td>\n",
       "    </tr>\n",
       "    <tr>\n",
       "      <th>1.0</th>\n",
       "      <td>0.117626</td>\n",
       "      <td>0.506285</td>\n",
       "      <td>0.734329</td>\n",
       "      <td>0.705285</td>\n",
       "    </tr>\n",
       "  </tbody>\n",
       "</table>\n",
       "</div>"
      ],
      "text/plain": [
       "beta       0.0       0.3       0.7       1.0\n",
       "0.0   0.120106  0.477065  0.749790  0.709770\n",
       "0.3   0.322358  0.705023  0.948773  0.918517\n",
       "0.7   0.302878  0.712140  0.950739  0.909200\n",
       "1.0   0.117626  0.506285  0.734329  0.705285"
      ]
     },
     "execution_count": 179,
     "metadata": {},
     "output_type": "execute_result"
    }
   ],
   "source": [
    "prepare_for_heatmap(df)"
   ]
  },
  {
   "cell_type": "code",
   "execution_count": null,
   "id": "8200383c",
   "metadata": {},
   "outputs": [],
   "source": []
  },
  {
   "cell_type": "code",
   "execution_count": null,
   "id": "8eaf7c22",
   "metadata": {},
   "outputs": [],
   "source": []
  },
  {
   "cell_type": "code",
   "execution_count": null,
   "id": "06b1809e",
   "metadata": {},
   "outputs": [],
   "source": []
  },
  {
   "cell_type": "markdown",
   "id": "d7d32cd4",
   "metadata": {},
   "source": [
    "## Customer Lifespan"
   ]
  },
  {
   "cell_type": "markdown",
   "id": "5eca6128",
   "metadata": {},
   "source": [
    "Customer life span is an important metric businesses with recurring customers track to make projections and is used in calculating the life time value (LTV) of a customer.\n",
    "\n",
    "Suppose we have a table with four columns, `['date', 'customer_id', 'order_num', 'order_amount_dollars']`"
   ]
  },
  {
   "cell_type": "code",
   "execution_count": 181,
   "id": "beed59ad",
   "metadata": {},
   "outputs": [],
   "source": [
    "df = pd.DataFrame({'date': pd.to_datetime(['2019-08-01', '2019-08-05', '2019-09-01']),\n",
    "                                          'customer_id': [1, 2, 1],\n",
    "                                          'order_num': [1, 2, 3],\n",
    "                                          'order_amount_dollars': [30, 40, 30]})"
   ]
  },
  {
   "cell_type": "markdown",
   "id": "1bcd0fb9",
   "metadata": {},
   "source": [
    "We are interested in calculating the average duration a person remains a customer.\n",
    "\n",
    "Write a function `avg_life_span(df)` which takes a dataframe and returns the average life span of the customers in the dataframe."
   ]
  },
  {
   "cell_type": "code",
   "execution_count": 183,
   "id": "dfbbf652",
   "metadata": {
    "scrolled": true
   },
   "outputs": [
    {
     "data": {
      "text/html": [
       "<div>\n",
       "<style scoped>\n",
       "    .dataframe tbody tr th:only-of-type {\n",
       "        vertical-align: middle;\n",
       "    }\n",
       "\n",
       "    .dataframe tbody tr th {\n",
       "        vertical-align: top;\n",
       "    }\n",
       "\n",
       "    .dataframe thead th {\n",
       "        text-align: right;\n",
       "    }\n",
       "</style>\n",
       "<table border=\"1\" class=\"dataframe\">\n",
       "  <thead>\n",
       "    <tr style=\"text-align: right;\">\n",
       "      <th></th>\n",
       "      <th>date</th>\n",
       "      <th>customer_id</th>\n",
       "      <th>order_num</th>\n",
       "      <th>order_amount_dollars</th>\n",
       "    </tr>\n",
       "  </thead>\n",
       "  <tbody>\n",
       "    <tr>\n",
       "      <th>0</th>\n",
       "      <td>2019-08-01</td>\n",
       "      <td>1</td>\n",
       "      <td>1</td>\n",
       "      <td>30</td>\n",
       "    </tr>\n",
       "    <tr>\n",
       "      <th>1</th>\n",
       "      <td>2019-08-05</td>\n",
       "      <td>2</td>\n",
       "      <td>2</td>\n",
       "      <td>40</td>\n",
       "    </tr>\n",
       "    <tr>\n",
       "      <th>2</th>\n",
       "      <td>2019-09-01</td>\n",
       "      <td>1</td>\n",
       "      <td>3</td>\n",
       "      <td>30</td>\n",
       "    </tr>\n",
       "  </tbody>\n",
       "</table>\n",
       "</div>"
      ],
      "text/plain": [
       "        date  customer_id  order_num  order_amount_dollars\n",
       "0 2019-08-01            1          1                    30\n",
       "1 2019-08-05            2          2                    40\n",
       "2 2019-09-01            1          3                    30"
      ]
     },
     "execution_count": 183,
     "metadata": {},
     "output_type": "execute_result"
    }
   ],
   "source": [
    "df"
   ]
  },
  {
   "cell_type": "code",
   "execution_count": 191,
   "id": "391fc3d9",
   "metadata": {},
   "outputs": [
    {
     "data": {
      "text/html": [
       "<div>\n",
       "<style scoped>\n",
       "    .dataframe tbody tr th:only-of-type {\n",
       "        vertical-align: middle;\n",
       "    }\n",
       "\n",
       "    .dataframe tbody tr th {\n",
       "        vertical-align: top;\n",
       "    }\n",
       "\n",
       "    .dataframe thead th {\n",
       "        text-align: right;\n",
       "    }\n",
       "</style>\n",
       "<table border=\"1\" class=\"dataframe\">\n",
       "  <thead>\n",
       "    <tr style=\"text-align: right;\">\n",
       "      <th></th>\n",
       "      <th>customer_id</th>\n",
       "      <th>date</th>\n",
       "    </tr>\n",
       "  </thead>\n",
       "  <tbody>\n",
       "    <tr>\n",
       "      <th>0</th>\n",
       "      <td>1</td>\n",
       "      <td>2019-08-16 12:00:00</td>\n",
       "    </tr>\n",
       "    <tr>\n",
       "      <th>1</th>\n",
       "      <td>2</td>\n",
       "      <td>2019-08-05 00:00:00</td>\n",
       "    </tr>\n",
       "  </tbody>\n",
       "</table>\n",
       "</div>"
      ],
      "text/plain": [
       "   customer_id                date\n",
       "0            1 2019-08-16 12:00:00\n",
       "1            2 2019-08-05 00:00:00"
      ]
     },
     "execution_count": 191,
     "metadata": {},
     "output_type": "execute_result"
    }
   ],
   "source": [
    "df.groupby(['customer_id'], as_index=False).agg({'date': 'mean'})"
   ]
  },
  {
   "cell_type": "code",
   "execution_count": 192,
   "id": "4a5f09be",
   "metadata": {},
   "outputs": [
    {
     "data": {
      "text/plain": [
       "pandas._libs.tslibs.timestamps.Timestamp"
      ]
     },
     "execution_count": 192,
     "metadata": {},
     "output_type": "execute_result"
    }
   ],
   "source": [
    "type(df.date[0])"
   ]
  },
  {
   "cell_type": "code",
   "execution_count": 203,
   "id": "863eb703",
   "metadata": {},
   "outputs": [],
   "source": [
    "def avg_life_span(df):\n",
    "    lifespan = (df.date.max() - df.date.min()) / df.customer_id.nunique()\n",
    "    return lifespan"
   ]
  },
  {
   "cell_type": "code",
   "execution_count": 204,
   "id": "0ea3eb5d",
   "metadata": {},
   "outputs": [
    {
     "data": {
      "text/plain": [
       "Timedelta('15 days 12:00:00')"
      ]
     },
     "execution_count": 204,
     "metadata": {},
     "output_type": "execute_result"
    }
   ],
   "source": [
    "avg_life_span(df)"
   ]
  },
  {
   "cell_type": "code",
   "execution_count": null,
   "id": "4559fd32",
   "metadata": {},
   "outputs": [],
   "source": []
  },
  {
   "cell_type": "code",
   "execution_count": null,
   "id": "d001aef5",
   "metadata": {},
   "outputs": [],
   "source": []
  },
  {
   "cell_type": "code",
   "execution_count": null,
   "id": "ed4a411a",
   "metadata": {},
   "outputs": [],
   "source": []
  },
  {
   "cell_type": "code",
   "execution_count": null,
   "id": "359a72bb",
   "metadata": {},
   "outputs": [],
   "source": []
  },
  {
   "cell_type": "code",
   "execution_count": null,
   "id": "f1670fa5",
   "metadata": {},
   "outputs": [],
   "source": []
  },
  {
   "cell_type": "code",
   "execution_count": null,
   "id": "21883a63",
   "metadata": {},
   "outputs": [],
   "source": []
  },
  {
   "cell_type": "code",
   "execution_count": null,
   "id": "03746543",
   "metadata": {},
   "outputs": [],
   "source": []
  },
  {
   "cell_type": "code",
   "execution_count": null,
   "id": "d58d5b78",
   "metadata": {},
   "outputs": [],
   "source": []
  },
  {
   "cell_type": "code",
   "execution_count": null,
   "id": "aca189b7",
   "metadata": {},
   "outputs": [],
   "source": []
  },
  {
   "cell_type": "code",
   "execution_count": null,
   "id": "033f6310",
   "metadata": {},
   "outputs": [],
   "source": []
  }
 ],
 "metadata": {
  "kernelspec": {
   "display_name": "Python 3 (ipykernel)",
   "language": "python",
   "name": "python3"
  },
  "language_info": {
   "codemirror_mode": {
    "name": "ipython",
    "version": 3
   },
   "file_extension": ".py",
   "mimetype": "text/x-python",
   "name": "python",
   "nbconvert_exporter": "python",
   "pygments_lexer": "ipython3",
   "version": "3.9.13"
  }
 },
 "nbformat": 4,
 "nbformat_minor": 5
}
